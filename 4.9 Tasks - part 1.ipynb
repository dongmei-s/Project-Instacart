{
 "cells": [
  {
   "cell_type": "markdown",
   "id": "5fad918d",
   "metadata": {},
   "source": [
    "# Import libraries"
   ]
  },
  {
   "cell_type": "code",
   "execution_count": 1,
   "id": "a00f0527",
   "metadata": {},
   "outputs": [],
   "source": [
    "import numpy as np\n",
    "import pandas as pd\n",
    "import os\n",
    "import seaborn as sns\n",
    "import matplotlib as plt\n",
    "import scipy"
   ]
  },
  {
   "cell_type": "code",
   "execution_count": 2,
   "id": "4ea8dac8",
   "metadata": {},
   "outputs": [],
   "source": [
    "fpath = r'C:\\Users\\Mei\\Instacart Basket Analysis\\02 Data'"
   ]
  },
  {
   "cell_type": "code",
   "execution_count": 3,
   "id": "4e5e4edd",
   "metadata": {},
   "outputs": [],
   "source": [
    "df_cust = pd.read_csv(os.path.join(fpath,'Original data','customers.csv'), index_col = False)"
   ]
  },
  {
   "cell_type": "code",
   "execution_count": 4,
   "id": "3e46a845",
   "metadata": {},
   "outputs": [
    {
     "name": "stdout",
     "output_type": "stream",
     "text": [
      "<class 'pandas.core.frame.DataFrame'>\n",
      "RangeIndex: 206209 entries, 0 to 206208\n",
      "Data columns (total 10 columns):\n",
      " #   Column        Non-Null Count   Dtype \n",
      "---  ------        --------------   ----- \n",
      " 0   user_id       206209 non-null  int64 \n",
      " 1   First Name    194950 non-null  object\n",
      " 2   Surnam        206209 non-null  object\n",
      " 3   Gender        206209 non-null  object\n",
      " 4   STATE         206209 non-null  object\n",
      " 5   Age           206209 non-null  int64 \n",
      " 6   date_joined   206209 non-null  object\n",
      " 7   n_dependants  206209 non-null  int64 \n",
      " 8   fam_status    206209 non-null  object\n",
      " 9   income        206209 non-null  int64 \n",
      "dtypes: int64(4), object(6)\n",
      "memory usage: 15.7+ MB\n"
     ]
    }
   ],
   "source": [
    "df_cust.info()"
   ]
  },
  {
   "cell_type": "markdown",
   "id": "cab4c025",
   "metadata": {},
   "source": [
    "## 1. Wrangle the dataframe"
   ]
  },
  {
   "cell_type": "code",
   "execution_count": 7,
   "id": "eeb006fb",
   "metadata": {},
   "outputs": [],
   "source": [
    "df_cust.rename(columns = {'Surnam': 'surname'}, inplace = True)\n",
    "df_cust.rename(columns = {'First Name': 'first_name'}, inplace = True)\n",
    "df_cust.rename(columns = {'Gender':'gender'}, inplace = True)\n",
    "df_cust.rename(columns = {'STATE': 'state'}, inplace = True)\n",
    "df_cust.rename(columns = {'Age':'age'}, inplace = True)\n",
    "df_cust.rename(columns = {'fam_status':'family_status'}, inplace = True)"
   ]
  },
  {
   "cell_type": "code",
   "execution_count": 8,
   "id": "59a0a2aa",
   "metadata": {},
   "outputs": [
    {
     "data": {
      "text/html": [
       "<div>\n",
       "<style scoped>\n",
       "    .dataframe tbody tr th:only-of-type {\n",
       "        vertical-align: middle;\n",
       "    }\n",
       "\n",
       "    .dataframe tbody tr th {\n",
       "        vertical-align: top;\n",
       "    }\n",
       "\n",
       "    .dataframe thead th {\n",
       "        text-align: right;\n",
       "    }\n",
       "</style>\n",
       "<table border=\"1\" class=\"dataframe\">\n",
       "  <thead>\n",
       "    <tr style=\"text-align: right;\">\n",
       "      <th></th>\n",
       "      <th>user_id</th>\n",
       "      <th>first_name</th>\n",
       "      <th>surname</th>\n",
       "      <th>gender</th>\n",
       "      <th>state</th>\n",
       "      <th>age</th>\n",
       "      <th>date_joined</th>\n",
       "      <th>n_dependants</th>\n",
       "      <th>family_status</th>\n",
       "      <th>income</th>\n",
       "    </tr>\n",
       "  </thead>\n",
       "  <tbody>\n",
       "    <tr>\n",
       "      <th>0</th>\n",
       "      <td>26711</td>\n",
       "      <td>Deborah</td>\n",
       "      <td>Esquivel</td>\n",
       "      <td>Female</td>\n",
       "      <td>Missouri</td>\n",
       "      <td>48</td>\n",
       "      <td>1/1/2017</td>\n",
       "      <td>3</td>\n",
       "      <td>married</td>\n",
       "      <td>165665</td>\n",
       "    </tr>\n",
       "    <tr>\n",
       "      <th>1</th>\n",
       "      <td>33890</td>\n",
       "      <td>Patricia</td>\n",
       "      <td>Hart</td>\n",
       "      <td>Female</td>\n",
       "      <td>New Mexico</td>\n",
       "      <td>36</td>\n",
       "      <td>1/1/2017</td>\n",
       "      <td>0</td>\n",
       "      <td>single</td>\n",
       "      <td>59285</td>\n",
       "    </tr>\n",
       "    <tr>\n",
       "      <th>2</th>\n",
       "      <td>65803</td>\n",
       "      <td>Kenneth</td>\n",
       "      <td>Farley</td>\n",
       "      <td>Male</td>\n",
       "      <td>Idaho</td>\n",
       "      <td>35</td>\n",
       "      <td>1/1/2017</td>\n",
       "      <td>2</td>\n",
       "      <td>married</td>\n",
       "      <td>99568</td>\n",
       "    </tr>\n",
       "    <tr>\n",
       "      <th>3</th>\n",
       "      <td>125935</td>\n",
       "      <td>Michelle</td>\n",
       "      <td>Hicks</td>\n",
       "      <td>Female</td>\n",
       "      <td>Iowa</td>\n",
       "      <td>40</td>\n",
       "      <td>1/1/2017</td>\n",
       "      <td>0</td>\n",
       "      <td>single</td>\n",
       "      <td>42049</td>\n",
       "    </tr>\n",
       "    <tr>\n",
       "      <th>4</th>\n",
       "      <td>130797</td>\n",
       "      <td>Ann</td>\n",
       "      <td>Gilmore</td>\n",
       "      <td>Female</td>\n",
       "      <td>Maryland</td>\n",
       "      <td>26</td>\n",
       "      <td>1/1/2017</td>\n",
       "      <td>1</td>\n",
       "      <td>married</td>\n",
       "      <td>40374</td>\n",
       "    </tr>\n",
       "  </tbody>\n",
       "</table>\n",
       "</div>"
      ],
      "text/plain": [
       "  user_id first_name   surname  gender       state  age date_joined  \\\n",
       "0   26711    Deborah  Esquivel  Female    Missouri   48    1/1/2017   \n",
       "1   33890   Patricia      Hart  Female  New Mexico   36    1/1/2017   \n",
       "2   65803    Kenneth    Farley    Male       Idaho   35    1/1/2017   \n",
       "3  125935   Michelle     Hicks  Female        Iowa   40    1/1/2017   \n",
       "4  130797        Ann   Gilmore  Female    Maryland   26    1/1/2017   \n",
       "\n",
       "   n_dependants family_status  income  \n",
       "0             3       married  165665  \n",
       "1             0        single   59285  \n",
       "2             2       married   99568  \n",
       "3             0        single   42049  \n",
       "4             1       married   40374  "
      ]
     },
     "execution_count": 8,
     "metadata": {},
     "output_type": "execute_result"
    }
   ],
   "source": [
    "df_cust.head(5)"
   ]
  },
  {
   "cell_type": "markdown",
   "id": "418d0ef7",
   "metadata": {},
   "source": [
    "## 2. Consistency check"
   ]
  },
  {
   "cell_type": "code",
   "execution_count": 9,
   "id": "f49ff700",
   "metadata": {},
   "outputs": [
    {
     "name": "stdout",
     "output_type": "stream",
     "text": [
      "0         False\n",
      "1         False\n",
      "2         False\n",
      "3         False\n",
      "4         False\n",
      "          ...  \n",
      "206204    False\n",
      "206205    False\n",
      "206206    False\n",
      "206207    False\n",
      "206208    False\n",
      "Length: 206209, dtype: bool\n"
     ]
    }
   ],
   "source": [
    "for col in df_cust.columns.tolist():\n",
    "    ck = (df_cust[[col]].applymap(type) != df_cust[[col]].iloc[0].apply(type)).any(axis =1)\n",
    "    if len(df_cust[ck]) >0:\n",
    "        print(ck)"
   ]
  },
  {
   "cell_type": "markdown",
   "id": "764d3d3e",
   "metadata": {},
   "source": [
    "### Conclusions: no mixed types"
   ]
  },
  {
   "cell_type": "markdown",
   "id": "7337d701",
   "metadata": {},
   "source": [
    "## 3. Missing records check"
   ]
  },
  {
   "cell_type": "code",
   "execution_count": 10,
   "id": "e1156b18",
   "metadata": {},
   "outputs": [],
   "source": [
    "df_cust_nan = df_cust.isnull().sum()"
   ]
  },
  {
   "cell_type": "code",
   "execution_count": 11,
   "id": "dc2d269a",
   "metadata": {},
   "outputs": [
    {
     "data": {
      "text/plain": [
       "user_id              0\n",
       "first_name       11259\n",
       "surname              0\n",
       "gender               0\n",
       "state                0\n",
       "age                  0\n",
       "date_joined          0\n",
       "n_dependants         0\n",
       "family_status        0\n",
       "income               0\n",
       "dtype: int64"
      ]
     },
     "execution_count": 11,
     "metadata": {},
     "output_type": "execute_result"
    }
   ],
   "source": [
    "df_cust_nan"
   ]
  },
  {
   "cell_type": "code",
   "execution_count": 12,
   "id": "5f303f9b",
   "metadata": {},
   "outputs": [
    {
     "data": {
      "text/plain": [
       "(206209, 10)"
      ]
     },
     "execution_count": 12,
     "metadata": {},
     "output_type": "execute_result"
    }
   ],
   "source": [
    "df_cust.shape"
   ]
  },
  {
   "cell_type": "code",
   "execution_count": 13,
   "id": "ab2b1b78",
   "metadata": {},
   "outputs": [
    {
     "data": {
      "text/plain": [
       "0.054599944716282996"
      ]
     },
     "execution_count": 13,
     "metadata": {},
     "output_type": "execute_result"
    }
   ],
   "source": [
    "11259/206209"
   ]
  },
  {
   "cell_type": "code",
   "execution_count": 14,
   "id": "947a5aff",
   "metadata": {},
   "outputs": [],
   "source": [
    "# delete the null values as the percentage of missing data is about 5% \n",
    "df_cust.dropna(inplace = True)"
   ]
  },
  {
   "cell_type": "code",
   "execution_count": 15,
   "id": "573923bf",
   "metadata": {},
   "outputs": [
    {
     "data": {
      "text/plain": [
       "(194950, 10)"
      ]
     },
     "execution_count": 15,
     "metadata": {},
     "output_type": "execute_result"
    }
   ],
   "source": [
    "df_cust.shape"
   ]
  },
  {
   "cell_type": "markdown",
   "id": "673a96e3",
   "metadata": {},
   "source": [
    "### Conclusions: the null data have been deleted "
   ]
  },
  {
   "cell_type": "markdown",
   "id": "51f7d8aa",
   "metadata": {},
   "source": [
    "## 4. Duplicate records check"
   ]
  },
  {
   "cell_type": "code",
   "execution_count": 16,
   "id": "80baafa8",
   "metadata": {},
   "outputs": [],
   "source": [
    "df_cust_dup = df_cust[df_cust.duplicated()]"
   ]
  },
  {
   "cell_type": "code",
   "execution_count": 17,
   "id": "fd3e950a",
   "metadata": {},
   "outputs": [
    {
     "data": {
      "text/html": [
       "<div>\n",
       "<style scoped>\n",
       "    .dataframe tbody tr th:only-of-type {\n",
       "        vertical-align: middle;\n",
       "    }\n",
       "\n",
       "    .dataframe tbody tr th {\n",
       "        vertical-align: top;\n",
       "    }\n",
       "\n",
       "    .dataframe thead th {\n",
       "        text-align: right;\n",
       "    }\n",
       "</style>\n",
       "<table border=\"1\" class=\"dataframe\">\n",
       "  <thead>\n",
       "    <tr style=\"text-align: right;\">\n",
       "      <th></th>\n",
       "      <th>user_id</th>\n",
       "      <th>first_name</th>\n",
       "      <th>surname</th>\n",
       "      <th>gender</th>\n",
       "      <th>state</th>\n",
       "      <th>age</th>\n",
       "      <th>date_joined</th>\n",
       "      <th>n_dependants</th>\n",
       "      <th>family_status</th>\n",
       "      <th>income</th>\n",
       "    </tr>\n",
       "  </thead>\n",
       "  <tbody>\n",
       "  </tbody>\n",
       "</table>\n",
       "</div>"
      ],
      "text/plain": [
       "Empty DataFrame\n",
       "Columns: [user_id, first_name, surname, gender, state, age, date_joined, n_dependants, family_status, income]\n",
       "Index: []"
      ]
     },
     "execution_count": 17,
     "metadata": {},
     "output_type": "execute_result"
    }
   ],
   "source": [
    "df_cust_dup"
   ]
  },
  {
   "cell_type": "markdown",
   "id": "e071e2c9",
   "metadata": {},
   "source": [
    "### Conclusions: no duplicated records in the file"
   ]
  },
  {
   "cell_type": "code",
   "execution_count": 18,
   "id": "0e3d0bb1",
   "metadata": {},
   "outputs": [],
   "source": [
    "df_cust.to_csv(os.path.join(fpath,'Prepared data','customers_clean.csv'), index = False)"
   ]
  },
  {
   "cell_type": "markdown",
   "id": "fb21f883",
   "metadata": {},
   "source": [
    "## 5. Combine the dataset of customer with the merged file"
   ]
  },
  {
   "cell_type": "code",
   "execution_count": 19,
   "id": "07b8cd48",
   "metadata": {},
   "outputs": [],
   "source": [
    "df_merge = pd.read_pickle(os.path.join(fpath,'Prepared data','Entire_updated_merged_upd1.pkl'))"
   ]
  },
  {
   "cell_type": "code",
   "execution_count": 20,
   "id": "4357c671",
   "metadata": {},
   "outputs": [
    {
     "name": "stdout",
     "output_type": "stream",
     "text": [
      "<class 'pandas.core.frame.DataFrame'>\n",
      "Int64Index: 32406041 entries, 0 to 32406040\n",
      "Data columns (total 20 columns):\n",
      " #   Column                  Dtype  \n",
      "---  ------                  -----  \n",
      " 0   product_id              int64  \n",
      " 1   product_name            object \n",
      " 2   aisle_id                int64  \n",
      " 3   department_id           int64  \n",
      " 4   prices                  float64\n",
      " 5   order_id                int64  \n",
      " 6   user_id                 int64  \n",
      " 7   eval_setting            object \n",
      " 8   order_number            int64  \n",
      " 9   order_day_of_week       int64  \n",
      " 10  order_hour_of_day       int64  \n",
      " 11  days_since_prior_order  float64\n",
      " 12  add_to_cart_order       int64  \n",
      " 13  reordered               int64  \n",
      " 14  price_range             object \n",
      " 15  busy days               object \n",
      " 16  busiest_period_of_day   object \n",
      " 17  loyalty_flag            object \n",
      " 18  spender_flag            object \n",
      " 19  order_frequency         object \n",
      "dtypes: float64(2), int64(10), object(8)\n",
      "memory usage: 5.1+ GB\n"
     ]
    }
   ],
   "source": [
    "df_merge.info()"
   ]
  },
  {
   "cell_type": "markdown",
   "id": "3c84798b",
   "metadata": {},
   "source": [
    "### Due to the super big size of the merged file, i will only take the necessary columns which are needed for the next calculations in this exercise. "
   ]
  },
  {
   "cell_type": "markdown",
   "id": "3025bcaf",
   "metadata": {},
   "source": [
    "#### 1) Subset of merged file"
   ]
  },
  {
   "cell_type": "code",
   "execution_count": 7,
   "id": "47925ac3",
   "metadata": {},
   "outputs": [],
   "source": [
    "list_merge = ['product_id','department_id','prices','user_id','order_number','order_day_of_week','order_hour_of_day','loyalty_flag','spender_flag']"
   ]
  },
  {
   "cell_type": "code",
   "execution_count": 10,
   "id": "3f60c367",
   "metadata": {},
   "outputs": [],
   "source": [
    "df_merge_sub = df_merge[list_merge]"
   ]
  },
  {
   "cell_type": "markdown",
   "id": "c352d63a",
   "metadata": {},
   "source": [
    "#### 2) Subset of the df_cust"
   ]
  },
  {
   "cell_type": "code",
   "execution_count": 11,
   "id": "41382d66",
   "metadata": {},
   "outputs": [],
   "source": [
    "list_cust = ['user_id','gender','age','n_dependants','family_status','income','state']"
   ]
  },
  {
   "cell_type": "code",
   "execution_count": 14,
   "id": "7394b738",
   "metadata": {},
   "outputs": [],
   "source": [
    "df_cust_sub = df_cust[list_cust]"
   ]
  },
  {
   "cell_type": "markdown",
   "id": "3106eab2",
   "metadata": {},
   "source": [
    "#### 3) Merge the 'customer' and merged file"
   ]
  },
  {
   "cell_type": "code",
   "execution_count": 15,
   "id": "6910c0d7",
   "metadata": {
    "scrolled": true
   },
   "outputs": [],
   "source": [
    "df_merged_cust_merge = pd.merge(df_merge_sub,df_cust_sub,on = 'user_id')"
   ]
  },
  {
   "cell_type": "code",
   "execution_count": 16,
   "id": "3f9ff2a4",
   "metadata": {},
   "outputs": [],
   "source": [
    "df_merged_cust_merge.to_pickle(os.path.join(fpath,'Prepared data','merged_cusotmer.pkl'))"
   ]
  },
  {
   "cell_type": "code",
   "execution_count": null,
   "id": "69e16c3d",
   "metadata": {},
   "outputs": [],
   "source": []
  }
 ],
 "metadata": {
  "kernelspec": {
   "display_name": "Python 3 (ipykernel)",
   "language": "python",
   "name": "python3"
  },
  "language_info": {
   "codemirror_mode": {
    "name": "ipython",
    "version": 3
   },
   "file_extension": ".py",
   "mimetype": "text/x-python",
   "name": "python",
   "nbconvert_exporter": "python",
   "pygments_lexer": "ipython3",
   "version": "3.9.13"
  }
 },
 "nbformat": 4,
 "nbformat_minor": 5
}

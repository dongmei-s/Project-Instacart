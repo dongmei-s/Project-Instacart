{
 "cells": [
  {
   "cell_type": "markdown",
   "id": "ca818bc9",
   "metadata": {},
   "source": [
    "# Import dataset"
   ]
  },
  {
   "cell_type": "markdown",
   "id": "20fe2d05",
   "metadata": {},
   "source": [
    "### Note: in Subset part only a subset of 1million rows from the merged file are considered."
   ]
  },
  {
   "cell_type": "code",
   "execution_count": 1,
   "id": "12d21142",
   "metadata": {},
   "outputs": [],
   "source": [
    "# import libraries\n",
    "import numpy as np\n",
    "import pandas as pd\n",
    "import os"
   ]
  },
  {
   "cell_type": "code",
   "execution_count": 2,
   "id": "8b595fbd",
   "metadata": {},
   "outputs": [],
   "source": [
    "# set routs to the datasets\n",
    "fpath = r'C:\\Users\\Mei\\Instacart Basket Analysis\\02 Data\\Prepared data'"
   ]
  },
  {
   "cell_type": "code",
   "execution_count": 3,
   "id": "db4522d4",
   "metadata": {},
   "outputs": [],
   "source": [
    "# import the dataset \n",
    "df = pd.read_pickle(os.path.join(fpath,'orders_products_merged.pkl'))"
   ]
  },
  {
   "cell_type": "markdown",
   "id": "00f2f563",
   "metadata": {},
   "source": [
    "# Creating the price label in the entire dataset"
   ]
  },
  {
   "cell_type": "code",
   "execution_count": 5,
   "id": "ade81744",
   "metadata": {},
   "outputs": [
    {
     "name": "stdout",
     "output_type": "stream",
     "text": [
      "<class 'pandas.core.frame.DataFrame'>\n",
      "Int64Index: 32406041 entries, 0 to 32406040\n",
      "Data columns (total 16 columns):\n",
      " #   Column                  Dtype   \n",
      "---  ------                  -----   \n",
      " 0   product_id              int64   \n",
      " 1   product_name            object  \n",
      " 2   aisle_id                int64   \n",
      " 3   department_id           int64   \n",
      " 4   prices                  float64 \n",
      " 5   order_id                int64   \n",
      " 6   user_id                 int64   \n",
      " 7   eval_setting            object  \n",
      " 8   order_number            int64   \n",
      " 9   oder_day_of_week        int64   \n",
      " 10  order_hour_of_day       int64   \n",
      " 11  days_since_prior_order  float64 \n",
      " 12  add_to_cart_order       int64   \n",
      " 13  reordered               int64   \n",
      " 14  _merge                  category\n",
      " 15  _merge2                 category\n",
      "dtypes: category(2), float64(2), int64(10), object(2)\n",
      "memory usage: 3.7+ GB\n"
     ]
    }
   ],
   "source": [
    "df.info()"
   ]
  },
  {
   "cell_type": "code",
   "execution_count": 6,
   "id": "16b53c78",
   "metadata": {},
   "outputs": [],
   "source": [
    "df.loc[df['prices'] <= 5, 'price_range'] = 'low_range product'\n",
    "df.loc[(df['prices'] >5) & (df['prices']<= 15),'price_range'] = 'mid_range product'\n",
    "df.loc[df['prices'] >15, 'price_range'] = 'high_range product'"
   ]
  },
  {
   "cell_type": "code",
   "execution_count": 7,
   "id": "847a20b6",
   "metadata": {},
   "outputs": [
    {
     "name": "stdout",
     "output_type": "stream",
     "text": [
      "<class 'pandas.core.frame.DataFrame'>\n",
      "Int64Index: 32406041 entries, 0 to 32406040\n",
      "Data columns (total 17 columns):\n",
      " #   Column                  Dtype   \n",
      "---  ------                  -----   \n",
      " 0   product_id              int64   \n",
      " 1   product_name            object  \n",
      " 2   aisle_id                int64   \n",
      " 3   department_id           int64   \n",
      " 4   prices                  float64 \n",
      " 5   order_id                int64   \n",
      " 6   user_id                 int64   \n",
      " 7   eval_setting            object  \n",
      " 8   order_number            int64   \n",
      " 9   oder_day_of_week        int64   \n",
      " 10  order_hour_of_day       int64   \n",
      " 11  days_since_prior_order  float64 \n",
      " 12  add_to_cart_order       int64   \n",
      " 13  reordered               int64   \n",
      " 14  _merge                  category\n",
      " 15  _merge2                 category\n",
      " 16  price_range             object  \n",
      "dtypes: category(2), float64(2), int64(10), object(3)\n",
      "memory usage: 3.9+ GB\n"
     ]
    }
   ],
   "source": [
    "df.info()"
   ]
  },
  {
   "cell_type": "code",
   "execution_count": 8,
   "id": "396e6287",
   "metadata": {},
   "outputs": [
    {
     "data": {
      "text/plain": [
       "mid_range product     21861997\n",
       "low_range product     10126366\n",
       "high_range product      417678\n",
       "Name: price_range, dtype: int64"
      ]
     },
     "execution_count": 8,
     "metadata": {},
     "output_type": "execute_result"
    }
   ],
   "source": [
    "df['price_range'].value_counts()"
   ]
  },
  {
   "cell_type": "markdown",
   "id": "afb3f62d",
   "metadata": {},
   "source": [
    "# Busy days grouping"
   ]
  },
  {
   "cell_type": "code",
   "execution_count": 9,
   "id": "fee43a66",
   "metadata": {},
   "outputs": [
    {
     "data": {
      "text/plain": [
       "0    6204404\n",
       "1    5660456\n",
       "6    4496635\n",
       "2    4213986\n",
       "5    4205906\n",
       "3    3840701\n",
       "4    3783953\n",
       "Name: oder_day_of_week, dtype: int64"
      ]
     },
     "execution_count": 9,
     "metadata": {},
     "output_type": "execute_result"
    }
   ],
   "source": [
    "df['oder_day_of_week'].value_counts()"
   ]
  },
  {
   "cell_type": "code",
   "execution_count": 10,
   "id": "2b439202",
   "metadata": {},
   "outputs": [],
   "source": [
    "df.loc[(df['oder_day_of_week']==0)| (df['oder_day_of_week']==1),'Busy days'] = 'busiest days'\n",
    "df.loc[(df['oder_day_of_week'] == 3) | (df['oder_day_of_week'] ==4), 'Busy days'] ='least days'\n",
    "df.loc[(df['oder_day_of_week'] ==2) | (df['oder_day_of_week'] ==5)|(df['oder_day_of_week'] ==6),'Busy days'] = 'regularly busy'"
   ]
  },
  {
   "cell_type": "code",
   "execution_count": 11,
   "id": "8615bce7",
   "metadata": {},
   "outputs": [
    {
     "data": {
      "text/plain": [
       "regularly busy    12916527\n",
       "busiest days      11864860\n",
       "least days         7624654\n",
       "Name: Busy days, dtype: int64"
      ]
     },
     "execution_count": 11,
     "metadata": {},
     "output_type": "execute_result"
    }
   ],
   "source": [
    "df['Busy days'].value_counts()"
   ]
  },
  {
   "cell_type": "markdown",
   "id": "802d6144",
   "metadata": {},
   "source": [
    "# Busy hours of day"
   ]
  },
  {
   "cell_type": "code",
   "execution_count": 12,
   "id": "14b9113a",
   "metadata": {},
   "outputs": [
    {
     "data": {
      "text/plain": [
       "10    2761862\n",
       "11    2736242\n",
       "14    2689251\n",
       "15    2662246\n",
       "13    2661057\n",
       "12    2618613\n",
       "16    2535313\n",
       "9     2454273\n",
       "17    2087721\n",
       "8     1718182\n",
       "18    1636566\n",
       "19    1258352\n",
       "20     976182\n",
       "7      891082\n",
       "21     795658\n",
       "22     634247\n",
       "23     402335\n",
       "6      290500\n",
       "0      218786\n",
       "1      115706\n",
       "5       87964\n",
       "2       69377\n",
       "4       53245\n",
       "3       51281\n",
       "Name: order_hour_of_day, dtype: int64"
      ]
     },
     "execution_count": 12,
     "metadata": {},
     "output_type": "execute_result"
    }
   ],
   "source": [
    "df['order_hour_of_day'].value_counts()"
   ]
  },
  {
   "cell_type": "markdown",
   "id": "3580aa37",
   "metadata": {},
   "source": [
    "####  The hours in [0,6]: the hours are least hours, [9-16]: the hours are busiest hours; [17-23]: the hours are the regular busy period"
   ]
  },
  {
   "cell_type": "code",
   "execution_count": 13,
   "id": "22f06700",
   "metadata": {},
   "outputs": [],
   "source": [
    "df.loc[(df['order_hour_of_day']==0) |(df['order_hour_of_day'] ==1)|(df['order_hour_of_day']==2) |(df['order_hour_of_day'] ==3)|(df['order_hour_of_day']==4) |(df['order_hour_of_day'] ==5)|(df['order_hour_of_day']==6),'busiest_period_of_day'] = 'least orders'\n",
    "df.loc[(df['order_hour_of_day']==9) |(df['order_hour_of_day'] ==10)|(df['order_hour_of_day']==11) |(df['order_hour_of_day'] ==12)|(df['order_hour_of_day']==13) |(df['order_hour_of_day'] ==14)|(df['order_hour_of_day']==15)| (df['order_hour_of_day'] == 16),'busiest_period_of_day'] = 'most orders'\n",
    "df.loc[(df['order_hour_of_day']==7) |(df['order_hour_of_day'] ==8)|(df['order_hour_of_day']==17) |(df['order_hour_of_day'] ==18)|(df['order_hour_of_day']==19) |(df['order_hour_of_day'] ==20)|(df['order_hour_of_day']==21) |(df['order_hour_of_day'] ==22)|(df['order_hour_of_day']==23),'busiest_period_of_day'] = 'average orders'\n"
   ]
  },
  {
   "cell_type": "code",
   "execution_count": 14,
   "id": "741395a2",
   "metadata": {},
   "outputs": [
    {
     "data": {
      "text/plain": [
       "most orders       21118857\n",
       "average orders    10400325\n",
       "least orders        886859\n",
       "Name: busiest_period_of_day, dtype: int64"
      ]
     },
     "execution_count": 14,
     "metadata": {},
     "output_type": "execute_result"
    }
   ],
   "source": [
    "df['busiest_period_of_day'].value_counts()"
   ]
  },
  {
   "cell_type": "code",
   "execution_count": 15,
   "id": "7aa5691a",
   "metadata": {},
   "outputs": [
    {
     "data": {
      "text/html": [
       "<div>\n",
       "<style scoped>\n",
       "    .dataframe tbody tr th:only-of-type {\n",
       "        vertical-align: middle;\n",
       "    }\n",
       "\n",
       "    .dataframe tbody tr th {\n",
       "        vertical-align: top;\n",
       "    }\n",
       "\n",
       "    .dataframe thead th {\n",
       "        text-align: right;\n",
       "    }\n",
       "</style>\n",
       "<table border=\"1\" class=\"dataframe\">\n",
       "  <thead>\n",
       "    <tr style=\"text-align: right;\">\n",
       "      <th></th>\n",
       "      <th>product_id</th>\n",
       "      <th>product_name</th>\n",
       "      <th>aisle_id</th>\n",
       "      <th>department_id</th>\n",
       "      <th>prices</th>\n",
       "      <th>order_id</th>\n",
       "      <th>user_id</th>\n",
       "      <th>eval_setting</th>\n",
       "      <th>order_number</th>\n",
       "      <th>oder_day_of_week</th>\n",
       "      <th>order_hour_of_day</th>\n",
       "      <th>days_since_prior_order</th>\n",
       "      <th>add_to_cart_order</th>\n",
       "      <th>reordered</th>\n",
       "      <th>_merge</th>\n",
       "      <th>_merge2</th>\n",
       "      <th>price_range</th>\n",
       "      <th>Busy days</th>\n",
       "      <th>busiest_period_of_day</th>\n",
       "    </tr>\n",
       "  </thead>\n",
       "  <tbody>\n",
       "    <tr>\n",
       "      <th>0</th>\n",
       "      <td>1</td>\n",
       "      <td>Chocolate Sandwich Cookies</td>\n",
       "      <td>61</td>\n",
       "      <td>19</td>\n",
       "      <td>5.8</td>\n",
       "      <td>3139998</td>\n",
       "      <td>138</td>\n",
       "      <td>prior</td>\n",
       "      <td>28</td>\n",
       "      <td>6</td>\n",
       "      <td>11</td>\n",
       "      <td>3.0</td>\n",
       "      <td>5</td>\n",
       "      <td>0</td>\n",
       "      <td>both</td>\n",
       "      <td>both</td>\n",
       "      <td>mid_range product</td>\n",
       "      <td>regularly busy</td>\n",
       "      <td>most orders</td>\n",
       "    </tr>\n",
       "    <tr>\n",
       "      <th>1</th>\n",
       "      <td>1</td>\n",
       "      <td>Chocolate Sandwich Cookies</td>\n",
       "      <td>61</td>\n",
       "      <td>19</td>\n",
       "      <td>5.8</td>\n",
       "      <td>1977647</td>\n",
       "      <td>138</td>\n",
       "      <td>prior</td>\n",
       "      <td>30</td>\n",
       "      <td>6</td>\n",
       "      <td>17</td>\n",
       "      <td>20.0</td>\n",
       "      <td>1</td>\n",
       "      <td>1</td>\n",
       "      <td>both</td>\n",
       "      <td>both</td>\n",
       "      <td>mid_range product</td>\n",
       "      <td>regularly busy</td>\n",
       "      <td>average orders</td>\n",
       "    </tr>\n",
       "    <tr>\n",
       "      <th>2</th>\n",
       "      <td>1</td>\n",
       "      <td>Chocolate Sandwich Cookies</td>\n",
       "      <td>61</td>\n",
       "      <td>19</td>\n",
       "      <td>5.8</td>\n",
       "      <td>389851</td>\n",
       "      <td>709</td>\n",
       "      <td>prior</td>\n",
       "      <td>2</td>\n",
       "      <td>0</td>\n",
       "      <td>21</td>\n",
       "      <td>6.0</td>\n",
       "      <td>20</td>\n",
       "      <td>0</td>\n",
       "      <td>both</td>\n",
       "      <td>both</td>\n",
       "      <td>mid_range product</td>\n",
       "      <td>busiest days</td>\n",
       "      <td>average orders</td>\n",
       "    </tr>\n",
       "  </tbody>\n",
       "</table>\n",
       "</div>"
      ],
      "text/plain": [
       "   product_id                product_name  aisle_id  department_id  prices  \\\n",
       "0           1  Chocolate Sandwich Cookies        61             19     5.8   \n",
       "1           1  Chocolate Sandwich Cookies        61             19     5.8   \n",
       "2           1  Chocolate Sandwich Cookies        61             19     5.8   \n",
       "\n",
       "   order_id  user_id eval_setting  order_number  oder_day_of_week  \\\n",
       "0   3139998      138        prior            28                 6   \n",
       "1   1977647      138        prior            30                 6   \n",
       "2    389851      709        prior             2                 0   \n",
       "\n",
       "   order_hour_of_day  days_since_prior_order  add_to_cart_order  reordered  \\\n",
       "0                 11                     3.0                  5          0   \n",
       "1                 17                    20.0                  1          1   \n",
       "2                 21                     6.0                 20          0   \n",
       "\n",
       "  _merge _merge2        price_range       Busy days busiest_period_of_day  \n",
       "0   both    both  mid_range product  regularly busy           most orders  \n",
       "1   both    both  mid_range product  regularly busy        average orders  \n",
       "2   both    both  mid_range product    busiest days        average orders  "
      ]
     },
     "execution_count": 15,
     "metadata": {},
     "output_type": "execute_result"
    }
   ],
   "source": [
    "df.head(3)"
   ]
  },
  {
   "cell_type": "code",
   "execution_count": 18,
   "id": "779511c2",
   "metadata": {},
   "outputs": [],
   "source": [
    "df = df.drop(columns = ['_merge','_merge2'])"
   ]
  },
  {
   "cell_type": "code",
   "execution_count": 20,
   "id": "58481aa5",
   "metadata": {},
   "outputs": [],
   "source": [
    "df.rename(columns = {'Busy days':'busy days'}, inplace = True)"
   ]
  },
  {
   "cell_type": "code",
   "execution_count": 21,
   "id": "5fe96e08",
   "metadata": {},
   "outputs": [
    {
     "data": {
      "text/html": [
       "<div>\n",
       "<style scoped>\n",
       "    .dataframe tbody tr th:only-of-type {\n",
       "        vertical-align: middle;\n",
       "    }\n",
       "\n",
       "    .dataframe tbody tr th {\n",
       "        vertical-align: top;\n",
       "    }\n",
       "\n",
       "    .dataframe thead th {\n",
       "        text-align: right;\n",
       "    }\n",
       "</style>\n",
       "<table border=\"1\" class=\"dataframe\">\n",
       "  <thead>\n",
       "    <tr style=\"text-align: right;\">\n",
       "      <th></th>\n",
       "      <th>product_id</th>\n",
       "      <th>product_name</th>\n",
       "      <th>aisle_id</th>\n",
       "      <th>department_id</th>\n",
       "      <th>prices</th>\n",
       "      <th>order_id</th>\n",
       "      <th>user_id</th>\n",
       "      <th>eval_setting</th>\n",
       "      <th>order_number</th>\n",
       "      <th>order_day_of_week</th>\n",
       "      <th>order_hour_of_day</th>\n",
       "      <th>days_since_prior_order</th>\n",
       "      <th>add_to_cart_order</th>\n",
       "      <th>reordered</th>\n",
       "      <th>price_range</th>\n",
       "      <th>busy days</th>\n",
       "      <th>busiest_period_of_day</th>\n",
       "    </tr>\n",
       "  </thead>\n",
       "  <tbody>\n",
       "    <tr>\n",
       "      <th>0</th>\n",
       "      <td>1</td>\n",
       "      <td>Chocolate Sandwich Cookies</td>\n",
       "      <td>61</td>\n",
       "      <td>19</td>\n",
       "      <td>5.8</td>\n",
       "      <td>3139998</td>\n",
       "      <td>138</td>\n",
       "      <td>prior</td>\n",
       "      <td>28</td>\n",
       "      <td>6</td>\n",
       "      <td>11</td>\n",
       "      <td>3.0</td>\n",
       "      <td>5</td>\n",
       "      <td>0</td>\n",
       "      <td>mid_range product</td>\n",
       "      <td>regularly busy</td>\n",
       "      <td>most orders</td>\n",
       "    </tr>\n",
       "    <tr>\n",
       "      <th>1</th>\n",
       "      <td>1</td>\n",
       "      <td>Chocolate Sandwich Cookies</td>\n",
       "      <td>61</td>\n",
       "      <td>19</td>\n",
       "      <td>5.8</td>\n",
       "      <td>1977647</td>\n",
       "      <td>138</td>\n",
       "      <td>prior</td>\n",
       "      <td>30</td>\n",
       "      <td>6</td>\n",
       "      <td>17</td>\n",
       "      <td>20.0</td>\n",
       "      <td>1</td>\n",
       "      <td>1</td>\n",
       "      <td>mid_range product</td>\n",
       "      <td>regularly busy</td>\n",
       "      <td>average orders</td>\n",
       "    </tr>\n",
       "  </tbody>\n",
       "</table>\n",
       "</div>"
      ],
      "text/plain": [
       "   product_id                product_name  aisle_id  department_id  prices  \\\n",
       "0           1  Chocolate Sandwich Cookies        61             19     5.8   \n",
       "1           1  Chocolate Sandwich Cookies        61             19     5.8   \n",
       "\n",
       "   order_id  user_id eval_setting  order_number  order_day_of_week  \\\n",
       "0   3139998      138        prior            28                  6   \n",
       "1   1977647      138        prior            30                  6   \n",
       "\n",
       "   order_hour_of_day  days_since_prior_order  add_to_cart_order  reordered  \\\n",
       "0                 11                     3.0                  5          0   \n",
       "1                 17                    20.0                  1          1   \n",
       "\n",
       "         price_range       busy days busiest_period_of_day  \n",
       "0  mid_range product  regularly busy           most orders  \n",
       "1  mid_range product  regularly busy        average orders  "
      ]
     },
     "execution_count": 21,
     "metadata": {},
     "output_type": "execute_result"
    }
   ],
   "source": [
    "df.head(2)"
   ]
  },
  {
   "cell_type": "code",
   "execution_count": 22,
   "id": "d60ed3bb",
   "metadata": {},
   "outputs": [
    {
     "name": "stdout",
     "output_type": "stream",
     "text": [
      "<class 'pandas.core.frame.DataFrame'>\n",
      "Int64Index: 32406041 entries, 0 to 32406040\n",
      "Data columns (total 17 columns):\n",
      " #   Column                  Dtype  \n",
      "---  ------                  -----  \n",
      " 0   product_id              int64  \n",
      " 1   product_name            object \n",
      " 2   aisle_id                int64  \n",
      " 3   department_id           int64  \n",
      " 4   prices                  float64\n",
      " 5   order_id                int64  \n",
      " 6   user_id                 int64  \n",
      " 7   eval_setting            object \n",
      " 8   order_number            int64  \n",
      " 9   order_day_of_week       int64  \n",
      " 10  order_hour_of_day       int64  \n",
      " 11  days_since_prior_order  float64\n",
      " 12  add_to_cart_order       int64  \n",
      " 13  reordered               int64  \n",
      " 14  price_range             object \n",
      " 15  busy days               object \n",
      " 16  busiest_period_of_day   object \n",
      "dtypes: float64(2), int64(10), object(5)\n",
      "memory usage: 4.3+ GB\n"
     ]
    }
   ],
   "source": [
    "df.info()"
   ]
  },
  {
   "cell_type": "code",
   "execution_count": 23,
   "id": "d7d980de",
   "metadata": {},
   "outputs": [],
   "source": [
    "df.to_pickle(os.path.join(fpath,'Entire_updated_merged.pkl'))"
   ]
  },
  {
   "cell_type": "markdown",
   "id": "f2b39ae6",
   "metadata": {},
   "source": [
    "# Subset"
   ]
  },
  {
   "cell_type": "markdown",
   "id": "b3019113",
   "metadata": {},
   "source": [
    "## 1. Creating the price label "
   ]
  },
  {
   "cell_type": "code",
   "execution_count": 4,
   "id": "724231db",
   "metadata": {},
   "outputs": [],
   "source": [
    "df_sub = df[:1000000]"
   ]
  },
  {
   "cell_type": "code",
   "execution_count": 5,
   "id": "5a83755a",
   "metadata": {},
   "outputs": [],
   "source": [
    "## define a function to create the price label\n",
    "def price_label(row):\n",
    "    if row['prices'] <= 5:\n",
    "        return 'low_range product'\n",
    "    elif (row['prices']> 5) and (row['prices'] <= 15):\n",
    "        return 'mid-range product'\n",
    "    elif row['prices'] >15:\n",
    "        return 'high-range product'\n",
    "    else: return 'not enough data'\n",
    "    "
   ]
  },
  {
   "cell_type": "code",
   "execution_count": 6,
   "id": "122c5653",
   "metadata": {},
   "outputs": [
    {
     "name": "stderr",
     "output_type": "stream",
     "text": [
      "C:\\Users\\Mei\\AppData\\Local\\Temp\\ipykernel_11188\\371204710.py:1: SettingWithCopyWarning: \n",
      "A value is trying to be set on a copy of a slice from a DataFrame.\n",
      "Try using .loc[row_indexer,col_indexer] = value instead\n",
      "\n",
      "See the caveats in the documentation: https://pandas.pydata.org/pandas-docs/stable/user_guide/indexing.html#returning-a-view-versus-a-copy\n",
      "  df_sub['price_range'] = df_sub.apply(price_label, axis = 1)\n"
     ]
    }
   ],
   "source": [
    "df_sub['price_range'] = df_sub.apply(price_label, axis = 1)"
   ]
  },
  {
   "cell_type": "code",
   "execution_count": 7,
   "id": "02413850",
   "metadata": {},
   "outputs": [
    {
     "name": "stdout",
     "output_type": "stream",
     "text": [
      "<class 'pandas.core.frame.DataFrame'>\n",
      "Int64Index: 1000000 entries, 0 to 999999\n",
      "Data columns (total 17 columns):\n",
      " #   Column                  Non-Null Count    Dtype   \n",
      "---  ------                  --------------    -----   \n",
      " 0   product_id              1000000 non-null  int64   \n",
      " 1   product_name            1000000 non-null  object  \n",
      " 2   aisle_id                1000000 non-null  int64   \n",
      " 3   department_id           1000000 non-null  int64   \n",
      " 4   prices                  1000000 non-null  float64 \n",
      " 5   order_id                1000000 non-null  int64   \n",
      " 6   user_id                 1000000 non-null  int64   \n",
      " 7   eval_setting            1000000 non-null  object  \n",
      " 8   order_number            1000000 non-null  int64   \n",
      " 9   oder_day_of_week        1000000 non-null  int64   \n",
      " 10  order_hour_of_day       1000000 non-null  int64   \n",
      " 11  days_since_prior_order  1000000 non-null  float64 \n",
      " 12  add_to_cart_order       1000000 non-null  int64   \n",
      " 13  reordered               1000000 non-null  int64   \n",
      " 14  _merge                  1000000 non-null  category\n",
      " 15  _merge2                 1000000 non-null  category\n",
      " 16  price_range             1000000 non-null  object  \n",
      "dtypes: category(2), float64(2), int64(10), object(3)\n",
      "memory usage: 124.0+ MB\n"
     ]
    }
   ],
   "source": [
    "df_sub.info()"
   ]
  },
  {
   "cell_type": "markdown",
   "id": "5641cd55",
   "metadata": {},
   "source": [
    "#### delete the rows '_merge' and '_merge2'"
   ]
  },
  {
   "cell_type": "code",
   "execution_count": 8,
   "id": "cd36f830",
   "metadata": {},
   "outputs": [],
   "source": [
    "df_sub = df_sub.drop(columns = ['_merge','_merge2'])"
   ]
  },
  {
   "cell_type": "code",
   "execution_count": 9,
   "id": "c000cd3e",
   "metadata": {},
   "outputs": [
    {
     "name": "stdout",
     "output_type": "stream",
     "text": [
      "<class 'pandas.core.frame.DataFrame'>\n",
      "Int64Index: 1000000 entries, 0 to 999999\n",
      "Data columns (total 15 columns):\n",
      " #   Column                  Non-Null Count    Dtype  \n",
      "---  ------                  --------------    -----  \n",
      " 0   product_id              1000000 non-null  int64  \n",
      " 1   product_name            1000000 non-null  object \n",
      " 2   aisle_id                1000000 non-null  int64  \n",
      " 3   department_id           1000000 non-null  int64  \n",
      " 4   prices                  1000000 non-null  float64\n",
      " 5   order_id                1000000 non-null  int64  \n",
      " 6   user_id                 1000000 non-null  int64  \n",
      " 7   eval_setting            1000000 non-null  object \n",
      " 8   order_number            1000000 non-null  int64  \n",
      " 9   oder_day_of_week        1000000 non-null  int64  \n",
      " 10  order_hour_of_day       1000000 non-null  int64  \n",
      " 11  days_since_prior_order  1000000 non-null  float64\n",
      " 12  add_to_cart_order       1000000 non-null  int64  \n",
      " 13  reordered               1000000 non-null  int64  \n",
      " 14  price_range             1000000 non-null  object \n",
      "dtypes: float64(2), int64(10), object(3)\n",
      "memory usage: 122.1+ MB\n"
     ]
    }
   ],
   "source": [
    "df_sub.info()"
   ]
  },
  {
   "cell_type": "code",
   "execution_count": 10,
   "id": "c9736738",
   "metadata": {},
   "outputs": [
    {
     "data": {
      "text/html": [
       "<div>\n",
       "<style scoped>\n",
       "    .dataframe tbody tr th:only-of-type {\n",
       "        vertical-align: middle;\n",
       "    }\n",
       "\n",
       "    .dataframe tbody tr th {\n",
       "        vertical-align: top;\n",
       "    }\n",
       "\n",
       "    .dataframe thead th {\n",
       "        text-align: right;\n",
       "    }\n",
       "</style>\n",
       "<table border=\"1\" class=\"dataframe\">\n",
       "  <thead>\n",
       "    <tr style=\"text-align: right;\">\n",
       "      <th></th>\n",
       "      <th>product_id</th>\n",
       "      <th>product_name</th>\n",
       "      <th>aisle_id</th>\n",
       "      <th>department_id</th>\n",
       "      <th>prices</th>\n",
       "      <th>order_id</th>\n",
       "      <th>user_id</th>\n",
       "      <th>eval_setting</th>\n",
       "      <th>order_number</th>\n",
       "      <th>oder_day_of_week</th>\n",
       "      <th>order_hour_of_day</th>\n",
       "      <th>days_since_prior_order</th>\n",
       "      <th>add_to_cart_order</th>\n",
       "      <th>reordered</th>\n",
       "      <th>price_range</th>\n",
       "    </tr>\n",
       "  </thead>\n",
       "  <tbody>\n",
       "    <tr>\n",
       "      <th>0</th>\n",
       "      <td>1</td>\n",
       "      <td>Chocolate Sandwich Cookies</td>\n",
       "      <td>61</td>\n",
       "      <td>19</td>\n",
       "      <td>5.8</td>\n",
       "      <td>3139998</td>\n",
       "      <td>138</td>\n",
       "      <td>prior</td>\n",
       "      <td>28</td>\n",
       "      <td>6</td>\n",
       "      <td>11</td>\n",
       "      <td>3.0</td>\n",
       "      <td>5</td>\n",
       "      <td>0</td>\n",
       "      <td>mid-range product</td>\n",
       "    </tr>\n",
       "    <tr>\n",
       "      <th>1</th>\n",
       "      <td>1</td>\n",
       "      <td>Chocolate Sandwich Cookies</td>\n",
       "      <td>61</td>\n",
       "      <td>19</td>\n",
       "      <td>5.8</td>\n",
       "      <td>1977647</td>\n",
       "      <td>138</td>\n",
       "      <td>prior</td>\n",
       "      <td>30</td>\n",
       "      <td>6</td>\n",
       "      <td>17</td>\n",
       "      <td>20.0</td>\n",
       "      <td>1</td>\n",
       "      <td>1</td>\n",
       "      <td>mid-range product</td>\n",
       "    </tr>\n",
       "    <tr>\n",
       "      <th>2</th>\n",
       "      <td>1</td>\n",
       "      <td>Chocolate Sandwich Cookies</td>\n",
       "      <td>61</td>\n",
       "      <td>19</td>\n",
       "      <td>5.8</td>\n",
       "      <td>389851</td>\n",
       "      <td>709</td>\n",
       "      <td>prior</td>\n",
       "      <td>2</td>\n",
       "      <td>0</td>\n",
       "      <td>21</td>\n",
       "      <td>6.0</td>\n",
       "      <td>20</td>\n",
       "      <td>0</td>\n",
       "      <td>mid-range product</td>\n",
       "    </tr>\n",
       "    <tr>\n",
       "      <th>3</th>\n",
       "      <td>1</td>\n",
       "      <td>Chocolate Sandwich Cookies</td>\n",
       "      <td>61</td>\n",
       "      <td>19</td>\n",
       "      <td>5.8</td>\n",
       "      <td>652770</td>\n",
       "      <td>764</td>\n",
       "      <td>prior</td>\n",
       "      <td>1</td>\n",
       "      <td>3</td>\n",
       "      <td>13</td>\n",
       "      <td>7.0</td>\n",
       "      <td>10</td>\n",
       "      <td>0</td>\n",
       "      <td>mid-range product</td>\n",
       "    </tr>\n",
       "    <tr>\n",
       "      <th>4</th>\n",
       "      <td>1</td>\n",
       "      <td>Chocolate Sandwich Cookies</td>\n",
       "      <td>61</td>\n",
       "      <td>19</td>\n",
       "      <td>5.8</td>\n",
       "      <td>1813452</td>\n",
       "      <td>764</td>\n",
       "      <td>prior</td>\n",
       "      <td>3</td>\n",
       "      <td>4</td>\n",
       "      <td>17</td>\n",
       "      <td>9.0</td>\n",
       "      <td>11</td>\n",
       "      <td>1</td>\n",
       "      <td>mid-range product</td>\n",
       "    </tr>\n",
       "  </tbody>\n",
       "</table>\n",
       "</div>"
      ],
      "text/plain": [
       "   product_id                product_name  aisle_id  department_id  prices  \\\n",
       "0           1  Chocolate Sandwich Cookies        61             19     5.8   \n",
       "1           1  Chocolate Sandwich Cookies        61             19     5.8   \n",
       "2           1  Chocolate Sandwich Cookies        61             19     5.8   \n",
       "3           1  Chocolate Sandwich Cookies        61             19     5.8   \n",
       "4           1  Chocolate Sandwich Cookies        61             19     5.8   \n",
       "\n",
       "   order_id  user_id eval_setting  order_number  oder_day_of_week  \\\n",
       "0   3139998      138        prior            28                 6   \n",
       "1   1977647      138        prior            30                 6   \n",
       "2    389851      709        prior             2                 0   \n",
       "3    652770      764        prior             1                 3   \n",
       "4   1813452      764        prior             3                 4   \n",
       "\n",
       "   order_hour_of_day  days_since_prior_order  add_to_cart_order  reordered  \\\n",
       "0                 11                     3.0                  5          0   \n",
       "1                 17                    20.0                  1          1   \n",
       "2                 21                     6.0                 20          0   \n",
       "3                 13                     7.0                 10          0   \n",
       "4                 17                     9.0                 11          1   \n",
       "\n",
       "         price_range  \n",
       "0  mid-range product  \n",
       "1  mid-range product  \n",
       "2  mid-range product  \n",
       "3  mid-range product  \n",
       "4  mid-range product  "
      ]
     },
     "execution_count": 10,
     "metadata": {},
     "output_type": "execute_result"
    }
   ],
   "source": [
    "df_sub.head(5)"
   ]
  },
  {
   "cell_type": "markdown",
   "id": "848650c3",
   "metadata": {},
   "source": [
    "#### The frequency acount of values of price_range "
   ]
  },
  {
   "cell_type": "code",
   "execution_count": 11,
   "id": "108b52b3",
   "metadata": {},
   "outputs": [
    {
     "data": {
      "text/plain": [
       "mid-range product     652593\n",
       "low_range product     338063\n",
       "high-range product      9344\n",
       "Name: price_range, dtype: int64"
      ]
     },
     "execution_count": 11,
     "metadata": {},
     "output_type": "execute_result"
    }
   ],
   "source": [
    "df_sub['price_range'].value_counts()"
   ]
  },
  {
   "cell_type": "markdown",
   "id": "7501a88c",
   "metadata": {},
   "source": [
    "# 2. 'Busy day' grouping "
   ]
  },
  {
   "cell_type": "code",
   "execution_count": 12,
   "id": "fd873a73",
   "metadata": {},
   "outputs": [
    {
     "data": {
      "text/plain": [
       "0    183963\n",
       "1    174071\n",
       "6    137125\n",
       "2    132018\n",
       "5    132015\n",
       "3    120879\n",
       "4    119929\n",
       "Name: oder_day_of_week, dtype: int64"
      ]
     },
     "execution_count": 12,
     "metadata": {},
     "output_type": "execute_result"
    }
   ],
   "source": [
    "df_sub['oder_day_of_week'].value_counts()"
   ]
  },
  {
   "cell_type": "code",
   "execution_count": 15,
   "id": "bbea061a",
   "metadata": {},
   "outputs": [],
   "source": [
    "result = []\n",
    "for n in df_sub['oder_day_of_week']:\n",
    "    if n == 0:\n",
    "        result.append('busiest day')\n",
    "    elif n == 4:\n",
    "        result.append('least busy')\n",
    "    else: result.append('regularly busy')"
   ]
  },
  {
   "cell_type": "code",
   "execution_count": 16,
   "id": "23ad3801",
   "metadata": {},
   "outputs": [],
   "source": [
    "df_sub['Busy day'] = result"
   ]
  },
  {
   "cell_type": "code",
   "execution_count": 18,
   "id": "ab1e6921",
   "metadata": {},
   "outputs": [
    {
     "name": "stdout",
     "output_type": "stream",
     "text": [
      "<class 'pandas.core.frame.DataFrame'>\n",
      "Int64Index: 1000000 entries, 0 to 999999\n",
      "Data columns (total 16 columns):\n",
      " #   Column                  Non-Null Count    Dtype  \n",
      "---  ------                  --------------    -----  \n",
      " 0   product_id              1000000 non-null  int64  \n",
      " 1   product_name            1000000 non-null  object \n",
      " 2   aisle_id                1000000 non-null  int64  \n",
      " 3   department_id           1000000 non-null  int64  \n",
      " 4   prices                  1000000 non-null  float64\n",
      " 5   order_id                1000000 non-null  int64  \n",
      " 6   user_id                 1000000 non-null  int64  \n",
      " 7   eval_setting            1000000 non-null  object \n",
      " 8   order_number            1000000 non-null  int64  \n",
      " 9   oder_day_of_week        1000000 non-null  int64  \n",
      " 10  order_hour_of_day       1000000 non-null  int64  \n",
      " 11  days_since_prior_order  1000000 non-null  float64\n",
      " 12  add_to_cart_order       1000000 non-null  int64  \n",
      " 13  reordered               1000000 non-null  int64  \n",
      " 14  price_range             1000000 non-null  object \n",
      " 15  Busy day                1000000 non-null  object \n",
      "dtypes: float64(2), int64(10), object(4)\n",
      "memory usage: 129.7+ MB\n"
     ]
    }
   ],
   "source": [
    "df_sub.info()"
   ]
  },
  {
   "cell_type": "markdown",
   "id": "f2b0ed84",
   "metadata": {},
   "source": [
    "# 3. 'Busy days' grouping "
   ]
  },
  {
   "cell_type": "markdown",
   "id": "859e5436",
   "metadata": {},
   "source": [
    "### Create a new column 'Busy days', and delete column 'Busy day' in the df"
   ]
  },
  {
   "cell_type": "code",
   "execution_count": 19,
   "id": "3209c8c2",
   "metadata": {},
   "outputs": [
    {
     "data": {
      "text/plain": [
       "0    183963\n",
       "1    174071\n",
       "6    137125\n",
       "2    132018\n",
       "5    132015\n",
       "3    120879\n",
       "4    119929\n",
       "Name: oder_day_of_week, dtype: int64"
      ]
     },
     "execution_count": 19,
     "metadata": {},
     "output_type": "execute_result"
    }
   ],
   "source": [
    "df_sub['oder_day_of_week'].value_counts()"
   ]
  },
  {
   "cell_type": "code",
   "execution_count": 20,
   "id": "57fa75f5",
   "metadata": {},
   "outputs": [],
   "source": [
    "result1 = []\n",
    "for m in df_sub['oder_day_of_week']:\n",
    "    if m == 0 or m ==1:\n",
    "        result1.append('busiest days')\n",
    "    elif m ==3 or m==4:\n",
    "        result1.append('least days')\n",
    "    else: result1.append('regularly busy')"
   ]
  },
  {
   "cell_type": "code",
   "execution_count": 21,
   "id": "e1045a92",
   "metadata": {},
   "outputs": [],
   "source": [
    "df_sub['Busy days'] = result1"
   ]
  },
  {
   "cell_type": "code",
   "execution_count": 26,
   "id": "92ef3c1b",
   "metadata": {},
   "outputs": [],
   "source": [
    "del result, result1"
   ]
  },
  {
   "cell_type": "code",
   "execution_count": 28,
   "id": "81acae67",
   "metadata": {},
   "outputs": [],
   "source": [
    "df_sub = df_sub.drop(columns = 'Busy day')"
   ]
  },
  {
   "cell_type": "code",
   "execution_count": 29,
   "id": "b52e7abd",
   "metadata": {},
   "outputs": [
    {
     "data": {
      "text/plain": [
       "regularly busy    401158\n",
       "busiest days      358034\n",
       "least days        240808\n",
       "Name: Busy days, dtype: int64"
      ]
     },
     "execution_count": 29,
     "metadata": {},
     "output_type": "execute_result"
    }
   ],
   "source": [
    "df_sub['Busy days'].value_counts()"
   ]
  },
  {
   "cell_type": "markdown",
   "id": "1fb95be2",
   "metadata": {},
   "source": [
    "#### The values for the new variable ' Busy days' is reliable as e.g., the number for 'busiest days' is the sum of frequencies of when 'oder_day_of_week' = 0 and =1"
   ]
  },
  {
   "cell_type": "markdown",
   "id": "716ec44d",
   "metadata": {},
   "source": [
    "# 4. 'busiest_period_of_day' grouping"
   ]
  },
  {
   "cell_type": "markdown",
   "id": "1aff7173",
   "metadata": {},
   "source": [
    "###  Create a new column 'busiest_period_of_day'"
   ]
  },
  {
   "cell_type": "code",
   "execution_count": 31,
   "id": "35fcd9ce",
   "metadata": {},
   "outputs": [
    {
     "data": {
      "text/plain": [
       "10    86239\n",
       "11    84784\n",
       "14    83066\n",
       "13    82268\n",
       "15    81235\n",
       "12    80543\n",
       "16    77782\n",
       "9     76870\n",
       "17    64197\n",
       "8     53293\n",
       "18    50083\n",
       "19    38584\n",
       "20    30369\n",
       "7     27543\n",
       "21    24338\n",
       "22    19128\n",
       "23    12155\n",
       "6      9090\n",
       "0      6559\n",
       "1      3576\n",
       "5      2831\n",
       "2      2174\n",
       "3      1653\n",
       "4      1640\n",
       "Name: order_hour_of_day, dtype: int64"
      ]
     },
     "execution_count": 31,
     "metadata": {},
     "output_type": "execute_result"
    }
   ],
   "source": [
    "df_sub['order_hour_of_day'].value_counts()"
   ]
  },
  {
   "cell_type": "code",
   "execution_count": 33,
   "id": "ad524527",
   "metadata": {},
   "outputs": [],
   "source": [
    "result2 = []\n",
    "for value in df_sub['order_hour_of_day']:\n",
    "    if value in range(7):\n",
    "        result2.append('fewest orders')\n",
    "    elif value in range(9,17):\n",
    "        result2.append('most orders')\n",
    "    else: result2.append('average orders')"
   ]
  },
  {
   "cell_type": "code",
   "execution_count": 35,
   "id": "f421293d",
   "metadata": {},
   "outputs": [],
   "source": [
    "df_sub['busiest_period_of_day'] = result2"
   ]
  },
  {
   "cell_type": "code",
   "execution_count": 37,
   "id": "73bf6217",
   "metadata": {},
   "outputs": [
    {
     "data": {
      "text/plain": [
       "most orders       652787\n",
       "average orders    319690\n",
       "fewest orders      27523\n",
       "Name: busiest_period_of_day, dtype: int64"
      ]
     },
     "execution_count": 37,
     "metadata": {},
     "output_type": "execute_result"
    }
   ],
   "source": [
    "df_sub['busiest_period_of_day'].value_counts()"
   ]
  },
  {
   "cell_type": "code",
   "execution_count": 38,
   "id": "3097f6e6",
   "metadata": {},
   "outputs": [],
   "source": [
    "del result2"
   ]
  },
  {
   "cell_type": "code",
   "execution_count": 39,
   "id": "85552471",
   "metadata": {},
   "outputs": [],
   "source": [
    "df_sub.to_pickle(os.path.join(fpath,'subset_merged.pkl'))"
   ]
  },
  {
   "cell_type": "code",
   "execution_count": null,
   "id": "3f2209bb",
   "metadata": {},
   "outputs": [],
   "source": []
  }
 ],
 "metadata": {
  "kernelspec": {
   "display_name": "Python 3 (ipykernel)",
   "language": "python",
   "name": "python3"
  },
  "language_info": {
   "codemirror_mode": {
    "name": "ipython",
    "version": 3
   },
   "file_extension": ".py",
   "mimetype": "text/x-python",
   "name": "python",
   "nbconvert_exporter": "python",
   "pygments_lexer": "ipython3",
   "version": "3.9.13"
  }
 },
 "nbformat": 4,
 "nbformat_minor": 5
}

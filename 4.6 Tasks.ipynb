{
 "cells": [
  {
   "cell_type": "markdown",
   "id": "c0f4ec57",
   "metadata": {},
   "source": [
    "# Merge the 'orders_products_prior.csv' and 'orders_clean.csv' "
   ]
  },
  {
   "cell_type": "markdown",
   "id": "f893fffc",
   "metadata": {},
   "source": [
    "### 1. Import datasets 'orders_clean.csv' and 'order_products_prior.csv'"
   ]
  },
  {
   "cell_type": "code",
   "execution_count": 1,
   "id": "ede413a6",
   "metadata": {},
   "outputs": [],
   "source": [
    "# import libraries\n",
    "import pandas as pd\n",
    "import numpy as np\n",
    "import os"
   ]
  },
  {
   "cell_type": "code",
   "execution_count": 2,
   "id": "6ffbdc5d",
   "metadata": {},
   "outputs": [],
   "source": [
    "fpath = r'C:\\Users\\Mei\\Instacart Basket Analysis\\02 Data'"
   ]
  },
  {
   "cell_type": "code",
   "execution_count": 3,
   "id": "5938ea6c",
   "metadata": {},
   "outputs": [],
   "source": [
    "df_ords = pd.read_csv(os.path.join(fpath,'Prepared data','orders_clean.csv'), index_col = False)"
   ]
  },
  {
   "cell_type": "code",
   "execution_count": 4,
   "id": "178586cb",
   "metadata": {},
   "outputs": [],
   "source": [
    "df_order_products_prior = pd.read_csv(os.path.join(fpath,'Prepared data','order_products_prior.csv'),index_col = False)"
   ]
  },
  {
   "cell_type": "markdown",
   "id": "dc76b0c8",
   "metadata": {},
   "source": [
    "# Wrangle and Consistency check on 'order_products_prior'"
   ]
  },
  {
   "cell_type": "markdown",
   "id": "513d6e22",
   "metadata": {},
   "source": [
    "## 1. wrangle the data"
   ]
  },
  {
   "cell_type": "code",
   "execution_count": 5,
   "id": "d178b9a1",
   "metadata": {},
   "outputs": [
    {
     "name": "stdout",
     "output_type": "stream",
     "text": [
      "<class 'pandas.core.frame.DataFrame'>\n",
      "RangeIndex: 32434489 entries, 0 to 32434488\n",
      "Data columns (total 4 columns):\n",
      " #   Column             Dtype\n",
      "---  ------             -----\n",
      " 0   order_id           int64\n",
      " 1   product_id         int64\n",
      " 2   add_to_cart_order  int64\n",
      " 3   reordered          int64\n",
      "dtypes: int64(4)\n",
      "memory usage: 989.8 MB\n"
     ]
    }
   ],
   "source": [
    "df_order_products_prior.info()"
   ]
  },
  {
   "cell_type": "code",
   "execution_count": 6,
   "id": "60ec66a2",
   "metadata": {},
   "outputs": [
    {
     "data": {
      "text/html": [
       "<div>\n",
       "<style scoped>\n",
       "    .dataframe tbody tr th:only-of-type {\n",
       "        vertical-align: middle;\n",
       "    }\n",
       "\n",
       "    .dataframe tbody tr th {\n",
       "        vertical-align: top;\n",
       "    }\n",
       "\n",
       "    .dataframe thead th {\n",
       "        text-align: right;\n",
       "    }\n",
       "</style>\n",
       "<table border=\"1\" class=\"dataframe\">\n",
       "  <thead>\n",
       "    <tr style=\"text-align: right;\">\n",
       "      <th></th>\n",
       "      <th>order_id</th>\n",
       "      <th>product_id</th>\n",
       "      <th>add_to_cart_order</th>\n",
       "      <th>reordered</th>\n",
       "    </tr>\n",
       "  </thead>\n",
       "  <tbody>\n",
       "    <tr>\n",
       "      <th>0</th>\n",
       "      <td>2</td>\n",
       "      <td>33120</td>\n",
       "      <td>1</td>\n",
       "      <td>1</td>\n",
       "    </tr>\n",
       "    <tr>\n",
       "      <th>1</th>\n",
       "      <td>2</td>\n",
       "      <td>28985</td>\n",
       "      <td>2</td>\n",
       "      <td>1</td>\n",
       "    </tr>\n",
       "  </tbody>\n",
       "</table>\n",
       "</div>"
      ],
      "text/plain": [
       "   order_id  product_id  add_to_cart_order  reordered\n",
       "0         2       33120                  1          1\n",
       "1         2       28985                  2          1"
      ]
     },
     "execution_count": 6,
     "metadata": {},
     "output_type": "execute_result"
    }
   ],
   "source": [
    "df_order_products_prior.head(2)"
   ]
  },
  {
   "cell_type": "code",
   "execution_count": 7,
   "id": "29b1368f",
   "metadata": {},
   "outputs": [],
   "source": [
    "df_order_products_prior['order_id'] = df_order_products_prior['order_id'].astype('str')"
   ]
  },
  {
   "cell_type": "code",
   "execution_count": 8,
   "id": "e8e715db",
   "metadata": {},
   "outputs": [],
   "source": [
    "df_order_products_prior['product_id'] = df_order_products_prior['product_id'].astype('str')"
   ]
  },
  {
   "cell_type": "markdown",
   "id": "79ec8358",
   "metadata": {},
   "source": [
    "## 2. Consistency check"
   ]
  },
  {
   "cell_type": "markdown",
   "id": "b5d7e84e",
   "metadata": {},
   "source": [
    "### 2.1 Mixed type check"
   ]
  },
  {
   "cell_type": "code",
   "execution_count": 9,
   "id": "78382738",
   "metadata": {},
   "outputs": [],
   "source": [
    "for col in df_order_products_prior.columns.tolist():\n",
    "    wierd = (df_order_products_prior[[col]].applymap(type) != df_order_products_prior[[col]].iloc[0].apply(type)).any(axis = 1)\n",
    "    if len(df_order_products_prior[wierd]) >0 :\n",
    "        print(col)"
   ]
  },
  {
   "cell_type": "markdown",
   "id": "c232c629",
   "metadata": {},
   "source": [
    "### no mixed types"
   ]
  },
  {
   "cell_type": "markdown",
   "id": "deaae2d8",
   "metadata": {},
   "source": [
    "### 2.2 Missing values check"
   ]
  },
  {
   "cell_type": "code",
   "execution_count": 10,
   "id": "d86bb31a",
   "metadata": {},
   "outputs": [
    {
     "data": {
      "text/plain": [
       "order_id             0\n",
       "product_id           0\n",
       "add_to_cart_order    0\n",
       "reordered            0\n",
       "dtype: int64"
      ]
     },
     "execution_count": 10,
     "metadata": {},
     "output_type": "execute_result"
    }
   ],
   "source": [
    "df_order_products_prior.isnull().sum()"
   ]
  },
  {
   "cell_type": "markdown",
   "id": "7dc84114",
   "metadata": {},
   "source": [
    "### no missing values"
   ]
  },
  {
   "cell_type": "markdown",
   "id": "31e6d43f",
   "metadata": {},
   "source": [
    "### 2.3  Duplicates check"
   ]
  },
  {
   "cell_type": "code",
   "execution_count": 11,
   "id": "7acf96c3",
   "metadata": {},
   "outputs": [
    {
     "data": {
      "text/html": [
       "<div>\n",
       "<style scoped>\n",
       "    .dataframe tbody tr th:only-of-type {\n",
       "        vertical-align: middle;\n",
       "    }\n",
       "\n",
       "    .dataframe tbody tr th {\n",
       "        vertical-align: top;\n",
       "    }\n",
       "\n",
       "    .dataframe thead th {\n",
       "        text-align: right;\n",
       "    }\n",
       "</style>\n",
       "<table border=\"1\" class=\"dataframe\">\n",
       "  <thead>\n",
       "    <tr style=\"text-align: right;\">\n",
       "      <th></th>\n",
       "      <th>order_id</th>\n",
       "      <th>product_id</th>\n",
       "      <th>add_to_cart_order</th>\n",
       "      <th>reordered</th>\n",
       "    </tr>\n",
       "  </thead>\n",
       "  <tbody>\n",
       "  </tbody>\n",
       "</table>\n",
       "</div>"
      ],
      "text/plain": [
       "Empty DataFrame\n",
       "Columns: [order_id, product_id, add_to_cart_order, reordered]\n",
       "Index: []"
      ]
     },
     "execution_count": 11,
     "metadata": {},
     "output_type": "execute_result"
    }
   ],
   "source": [
    "df_order_products_prior[df_order_products_prior.duplicated()]"
   ]
  },
  {
   "cell_type": "markdown",
   "id": "8f34039d",
   "metadata": {},
   "source": [
    "### no duplicated"
   ]
  },
  {
   "cell_type": "markdown",
   "id": "7853a995",
   "metadata": {},
   "source": [
    "# Merge the two files"
   ]
  },
  {
   "cell_type": "code",
   "execution_count": 12,
   "id": "29e89d04",
   "metadata": {},
   "outputs": [
    {
     "name": "stdout",
     "output_type": "stream",
     "text": [
      "<class 'pandas.core.frame.DataFrame'>\n",
      "RangeIndex: 3421083 entries, 0 to 3421082\n",
      "Data columns (total 7 columns):\n",
      " #   Column                  Dtype  \n",
      "---  ------                  -----  \n",
      " 0   order_id                int64  \n",
      " 1   user_id                 int64  \n",
      " 2   eval_setting            object \n",
      " 3   order_number            int64  \n",
      " 4   oder_day_of_week        int64  \n",
      " 5   order_hour_of_day       int64  \n",
      " 6   days_since_prior_order  float64\n",
      "dtypes: float64(1), int64(5), object(1)\n",
      "memory usage: 182.7+ MB\n"
     ]
    }
   ],
   "source": [
    "df_ords.info()"
   ]
  },
  {
   "cell_type": "code",
   "execution_count": 13,
   "id": "6367435a",
   "metadata": {},
   "outputs": [],
   "source": [
    "df_ords['order_id'] = df_ords['order_id'].astype('str')"
   ]
  },
  {
   "cell_type": "code",
   "execution_count": 16,
   "id": "8fe4a75f",
   "metadata": {},
   "outputs": [],
   "source": [
    "list_1 = ['order_id','user_id','order_number','order_day_of_week','order_hour_of_day','days_since_prior_order']"
   ]
  },
  {
   "cell_type": "code",
   "execution_count": 17,
   "id": "c875db2d",
   "metadata": {},
   "outputs": [],
   "source": [
    "df_ords_sub = df_ords[list]"
   ]
  },
  {
   "cell_type": "code",
   "execution_count": 19,
   "id": "116abb83",
   "metadata": {},
   "outputs": [],
   "source": [
    "df_ords = df_ords_sub"
   ]
  },
  {
   "cell_type": "code",
   "execution_count": 22,
   "id": "56c9ed04",
   "metadata": {},
   "outputs": [],
   "source": [
    "list_2 = ['order_id','product_id']"
   ]
  },
  {
   "cell_type": "code",
   "execution_count": 23,
   "id": "1f6a20e9",
   "metadata": {},
   "outputs": [],
   "source": [
    "df_order_products_prior_sub = df_order_products_prior[list]"
   ]
  },
  {
   "cell_type": "code",
   "execution_count": 24,
   "id": "f4d4c755",
   "metadata": {},
   "outputs": [],
   "source": [
    "df_order_products_prior = df_order_products_prior_sub"
   ]
  },
  {
   "cell_type": "code",
   "execution_count": 25,
   "id": "b0f24f33",
   "metadata": {},
   "outputs": [
    {
     "data": {
      "text/plain": [
       "(3421083, 7)"
      ]
     },
     "execution_count": 25,
     "metadata": {},
     "output_type": "execute_result"
    }
   ],
   "source": [
    "df_ords.shape"
   ]
  },
  {
   "cell_type": "code",
   "execution_count": 26,
   "id": "58e049b9",
   "metadata": {},
   "outputs": [
    {
     "data": {
      "text/plain": [
       "(32434489, 4)"
      ]
     },
     "execution_count": 26,
     "metadata": {},
     "output_type": "execute_result"
    }
   ],
   "source": [
    "df_order_products_prior.shape"
   ]
  },
  {
   "cell_type": "markdown",
   "id": "9067e9e6",
   "metadata": {},
   "source": [
    "### 2. Merge these two files "
   ]
  },
  {
   "cell_type": "code",
   "execution_count": 27,
   "id": "5b8cf53c",
   "metadata": {},
   "outputs": [],
   "source": [
    "df_merge = pd.merge(df_ords,df_order_products_prior,on = 'order_id', indicator = True)"
   ]
  },
  {
   "cell_type": "code",
   "execution_count": 28,
   "id": "edaacd01",
   "metadata": {},
   "outputs": [
    {
     "data": {
      "text/html": [
       "<div>\n",
       "<style scoped>\n",
       "    .dataframe tbody tr th:only-of-type {\n",
       "        vertical-align: middle;\n",
       "    }\n",
       "\n",
       "    .dataframe tbody tr th {\n",
       "        vertical-align: top;\n",
       "    }\n",
       "\n",
       "    .dataframe thead th {\n",
       "        text-align: right;\n",
       "    }\n",
       "</style>\n",
       "<table border=\"1\" class=\"dataframe\">\n",
       "  <thead>\n",
       "    <tr style=\"text-align: right;\">\n",
       "      <th></th>\n",
       "      <th>order_id</th>\n",
       "      <th>user_id</th>\n",
       "      <th>eval_setting</th>\n",
       "      <th>order_number</th>\n",
       "      <th>oder_day_of_week</th>\n",
       "      <th>order_hour_of_day</th>\n",
       "      <th>days_since_prior_order</th>\n",
       "      <th>product_id</th>\n",
       "      <th>add_to_cart_order</th>\n",
       "      <th>reordered</th>\n",
       "      <th>_merge</th>\n",
       "    </tr>\n",
       "  </thead>\n",
       "  <tbody>\n",
       "    <tr>\n",
       "      <th>0</th>\n",
       "      <td>2539329</td>\n",
       "      <td>1</td>\n",
       "      <td>prior</td>\n",
       "      <td>1</td>\n",
       "      <td>2</td>\n",
       "      <td>8</td>\n",
       "      <td>7.0</td>\n",
       "      <td>196</td>\n",
       "      <td>1</td>\n",
       "      <td>0</td>\n",
       "      <td>both</td>\n",
       "    </tr>\n",
       "    <tr>\n",
       "      <th>1</th>\n",
       "      <td>2539329</td>\n",
       "      <td>1</td>\n",
       "      <td>prior</td>\n",
       "      <td>1</td>\n",
       "      <td>2</td>\n",
       "      <td>8</td>\n",
       "      <td>7.0</td>\n",
       "      <td>14084</td>\n",
       "      <td>2</td>\n",
       "      <td>0</td>\n",
       "      <td>both</td>\n",
       "    </tr>\n",
       "    <tr>\n",
       "      <th>2</th>\n",
       "      <td>2539329</td>\n",
       "      <td>1</td>\n",
       "      <td>prior</td>\n",
       "      <td>1</td>\n",
       "      <td>2</td>\n",
       "      <td>8</td>\n",
       "      <td>7.0</td>\n",
       "      <td>12427</td>\n",
       "      <td>3</td>\n",
       "      <td>0</td>\n",
       "      <td>both</td>\n",
       "    </tr>\n",
       "  </tbody>\n",
       "</table>\n",
       "</div>"
      ],
      "text/plain": [
       "  order_id  user_id eval_setting  order_number  oder_day_of_week  \\\n",
       "0  2539329        1        prior             1                 2   \n",
       "1  2539329        1        prior             1                 2   \n",
       "2  2539329        1        prior             1                 2   \n",
       "\n",
       "   order_hour_of_day  days_since_prior_order product_id  add_to_cart_order  \\\n",
       "0                  8                     7.0        196                  1   \n",
       "1                  8                     7.0      14084                  2   \n",
       "2                  8                     7.0      12427                  3   \n",
       "\n",
       "   reordered _merge  \n",
       "0          0   both  \n",
       "1          0   both  \n",
       "2          0   both  "
      ]
     },
     "execution_count": 28,
     "metadata": {},
     "output_type": "execute_result"
    }
   ],
   "source": [
    "df_merge.head(3)"
   ]
  },
  {
   "cell_type": "code",
   "execution_count": 29,
   "id": "42a70c22",
   "metadata": {},
   "outputs": [
    {
     "data": {
      "text/plain": [
       "both          32434489\n",
       "left_only            0\n",
       "right_only           0\n",
       "Name: _merge, dtype: int64"
      ]
     },
     "execution_count": 29,
     "metadata": {},
     "output_type": "execute_result"
    }
   ],
   "source": [
    "df_merge['_merge'].value_counts()"
   ]
  },
  {
   "cell_type": "code",
   "execution_count": 30,
   "id": "f02d602f",
   "metadata": {},
   "outputs": [
    {
     "data": {
      "text/plain": [
       "(32434489, 11)"
      ]
     },
     "execution_count": 30,
     "metadata": {},
     "output_type": "execute_result"
    }
   ],
   "source": [
    "df_merge.shape"
   ]
  },
  {
   "cell_type": "markdown",
   "id": "5b7a15d9",
   "metadata": {},
   "source": [
    "### 3. Export the merged file as .pkl"
   ]
  },
  {
   "cell_type": "code",
   "execution_count": 31,
   "id": "8b70a006",
   "metadata": {},
   "outputs": [],
   "source": [
    "df_merge.to_pickle(os.path.join(fpath,'Prepared data','orders_products_combined.pkl'))"
   ]
  },
  {
   "cell_type": "markdown",
   "id": "29bb876c",
   "metadata": {},
   "source": [
    "# Merge the file 'orders_products_combined.pkl' with file 'products.csv'"
   ]
  },
  {
   "cell_type": "markdown",
   "id": "ea1a5f90",
   "metadata": {},
   "source": [
    "### 1. Import dateset 'products.csv'"
   ]
  },
  {
   "cell_type": "code",
   "execution_count": 32,
   "id": "fb20e2ae",
   "metadata": {},
   "outputs": [],
   "source": [
    "df_prods = pd.read_csv(os.path.join(fpath,'Prepared data','products_clean.csv'),index_col = False)"
   ]
  },
  {
   "cell_type": "code",
   "execution_count": 33,
   "id": "91b6d41e",
   "metadata": {},
   "outputs": [
    {
     "name": "stdout",
     "output_type": "stream",
     "text": [
      "<class 'pandas.core.frame.DataFrame'>\n",
      "RangeIndex: 49677 entries, 0 to 49676\n",
      "Data columns (total 5 columns):\n",
      " #   Column         Non-Null Count  Dtype  \n",
      "---  ------         --------------  -----  \n",
      " 0   product_id     49677 non-null  int64  \n",
      " 1   product_name   49677 non-null  object \n",
      " 2   aisle_id       49677 non-null  int64  \n",
      " 3   department_id  49677 non-null  int64  \n",
      " 4   prices         49677 non-null  float64\n",
      "dtypes: float64(1), int64(3), object(1)\n",
      "memory usage: 1.9+ MB\n"
     ]
    }
   ],
   "source": [
    "df_prods.info()"
   ]
  },
  {
   "cell_type": "code",
   "execution_count": 34,
   "id": "adebc7c5",
   "metadata": {},
   "outputs": [],
   "source": [
    "df_prods['product_id'] = df_prods['product_id'].astype('str')"
   ]
  },
  {
   "cell_type": "code",
   "execution_count": 35,
   "id": "53964cca",
   "metadata": {},
   "outputs": [
    {
     "data": {
      "text/plain": [
       "(49677, 5)"
      ]
     },
     "execution_count": 35,
     "metadata": {},
     "output_type": "execute_result"
    }
   ],
   "source": [
    "df_prods.shape"
   ]
  },
  {
   "cell_type": "markdown",
   "id": "55d106c7",
   "metadata": {},
   "source": [
    "### 3. Merge these two dataframes "
   ]
  },
  {
   "cell_type": "code",
   "execution_count": 37,
   "id": "7bdbb7d4",
   "metadata": {},
   "outputs": [
    {
     "data": {
      "text/html": [
       "<div>\n",
       "<style scoped>\n",
       "    .dataframe tbody tr th:only-of-type {\n",
       "        vertical-align: middle;\n",
       "    }\n",
       "\n",
       "    .dataframe tbody tr th {\n",
       "        vertical-align: top;\n",
       "    }\n",
       "\n",
       "    .dataframe thead th {\n",
       "        text-align: right;\n",
       "    }\n",
       "</style>\n",
       "<table border=\"1\" class=\"dataframe\">\n",
       "  <thead>\n",
       "    <tr style=\"text-align: right;\">\n",
       "      <th></th>\n",
       "      <th>order_id</th>\n",
       "      <th>user_id</th>\n",
       "      <th>eval_setting</th>\n",
       "      <th>order_number</th>\n",
       "      <th>oder_day_of_week</th>\n",
       "      <th>order_hour_of_day</th>\n",
       "      <th>days_since_prior_order</th>\n",
       "      <th>product_id</th>\n",
       "      <th>add_to_cart_order</th>\n",
       "      <th>reordered</th>\n",
       "      <th>_merge</th>\n",
       "    </tr>\n",
       "  </thead>\n",
       "  <tbody>\n",
       "    <tr>\n",
       "      <th>0</th>\n",
       "      <td>2539329</td>\n",
       "      <td>1</td>\n",
       "      <td>prior</td>\n",
       "      <td>1</td>\n",
       "      <td>2</td>\n",
       "      <td>8</td>\n",
       "      <td>7.0</td>\n",
       "      <td>196</td>\n",
       "      <td>1</td>\n",
       "      <td>0</td>\n",
       "      <td>both</td>\n",
       "    </tr>\n",
       "    <tr>\n",
       "      <th>1</th>\n",
       "      <td>2539329</td>\n",
       "      <td>1</td>\n",
       "      <td>prior</td>\n",
       "      <td>1</td>\n",
       "      <td>2</td>\n",
       "      <td>8</td>\n",
       "      <td>7.0</td>\n",
       "      <td>14084</td>\n",
       "      <td>2</td>\n",
       "      <td>0</td>\n",
       "      <td>both</td>\n",
       "    </tr>\n",
       "  </tbody>\n",
       "</table>\n",
       "</div>"
      ],
      "text/plain": [
       "  order_id  user_id eval_setting  order_number  oder_day_of_week  \\\n",
       "0  2539329        1        prior             1                 2   \n",
       "1  2539329        1        prior             1                 2   \n",
       "\n",
       "   order_hour_of_day  days_since_prior_order product_id  add_to_cart_order  \\\n",
       "0                  8                     7.0        196                  1   \n",
       "1                  8                     7.0      14084                  2   \n",
       "\n",
       "   reordered _merge  \n",
       "0          0   both  \n",
       "1          0   both  "
      ]
     },
     "execution_count": 37,
     "metadata": {},
     "output_type": "execute_result"
    }
   ],
   "source": [
    "df_merge.head(2)"
   ]
  },
  {
   "cell_type": "code",
   "execution_count": 38,
   "id": "a9e53068",
   "metadata": {},
   "outputs": [],
   "source": [
    "m = df_merge.drop(columns = ['eval_setting','_merge'])"
   ]
  },
  {
   "cell_type": "code",
   "execution_count": 40,
   "id": "fdd413df",
   "metadata": {},
   "outputs": [],
   "source": [
    "df_merge_2 = pd.merge(df_prods, m, on = 'product_id', indicator = True)"
   ]
  },
  {
   "cell_type": "code",
   "execution_count": 42,
   "id": "9713e40d",
   "metadata": {},
   "outputs": [
    {
     "data": {
      "text/plain": [
       "(32406041, 14)"
      ]
     },
     "execution_count": 42,
     "metadata": {},
     "output_type": "execute_result"
    }
   ],
   "source": [
    "df_merge_2.shape"
   ]
  },
  {
   "cell_type": "code",
   "execution_count": 43,
   "id": "6aa44ed6",
   "metadata": {},
   "outputs": [
    {
     "data": {
      "text/plain": [
       "both          32406041\n",
       "left_only            0\n",
       "right_only           0\n",
       "Name: _merge, dtype: int64"
      ]
     },
     "execution_count": 43,
     "metadata": {},
     "output_type": "execute_result"
    }
   ],
   "source": [
    "df_merge_2['_merge'].value_counts()"
   ]
  },
  {
   "cell_type": "markdown",
   "id": "0964c66f",
   "metadata": {},
   "source": [
    "### 4. Export the merged file as .pkl"
   ]
  },
  {
   "cell_type": "code",
   "execution_count": 45,
   "id": "f448adcb",
   "metadata": {},
   "outputs": [],
   "source": [
    "df_merge_2.to_pickle(os.path.join(fpath,'Prepared data','orders_products_merged.pkl'))"
   ]
  },
  {
   "cell_type": "code",
   "execution_count": null,
   "id": "26f4f5ba",
   "metadata": {},
   "outputs": [],
   "source": []
  }
 ],
 "metadata": {
  "kernelspec": {
   "display_name": "Python 3 (ipykernel)",
   "language": "python",
   "name": "python3"
  },
  "language_info": {
   "codemirror_mode": {
    "name": "ipython",
    "version": 3
   },
   "file_extension": ".py",
   "mimetype": "text/x-python",
   "name": "python",
   "nbconvert_exporter": "python",
   "pygments_lexer": "ipython3",
   "version": "3.9.13"
  }
 },
 "nbformat": 4,
 "nbformat_minor": 5
}

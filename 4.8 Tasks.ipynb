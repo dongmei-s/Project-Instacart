{
 "cells": [
  {
   "cell_type": "markdown",
   "id": "224b7421",
   "metadata": {},
   "source": [
    "# Import data"
   ]
  },
  {
   "cell_type": "code",
   "execution_count": 1,
   "id": "0aedb3e1",
   "metadata": {},
   "outputs": [],
   "source": [
    "import numpy as np\n",
    "import pandas as pd\n",
    "import os"
   ]
  },
  {
   "cell_type": "code",
   "execution_count": 2,
   "id": "1308cb43",
   "metadata": {},
   "outputs": [],
   "source": [
    "fpath = r'C:\\Users\\Mei\\Instacart Basket Analysis\\02 Data\\Prepared data'"
   ]
  },
  {
   "cell_type": "code",
   "execution_count": 3,
   "id": "51a2e5d0",
   "metadata": {},
   "outputs": [],
   "source": [
    "df = pd.read_pickle(os.path.join(fpath,'Entire_updated_merged.pkl'))"
   ]
  },
  {
   "cell_type": "code",
   "execution_count": 4,
   "id": "05703140",
   "metadata": {},
   "outputs": [],
   "source": [
    "df_sub = df[:1000000]"
   ]
  },
  {
   "cell_type": "markdown",
   "id": "626b4b83",
   "metadata": {},
   "source": [
    "# 1. Comparison of mean "
   ]
  },
  {
   "cell_type": "markdown",
   "id": "dffa0a18",
   "metadata": {},
   "source": [
    "### The mean of the subset"
   ]
  },
  {
   "cell_type": "code",
   "execution_count": 5,
   "id": "43934844",
   "metadata": {},
   "outputs": [
    {
     "data": {
      "text/html": [
       "<div>\n",
       "<style scoped>\n",
       "    .dataframe tbody tr th:only-of-type {\n",
       "        vertical-align: middle;\n",
       "    }\n",
       "\n",
       "    .dataframe tbody tr th {\n",
       "        vertical-align: top;\n",
       "    }\n",
       "\n",
       "    .dataframe thead tr th {\n",
       "        text-align: left;\n",
       "    }\n",
       "\n",
       "    .dataframe thead tr:last-of-type th {\n",
       "        text-align: right;\n",
       "    }\n",
       "</style>\n",
       "<table border=\"1\" class=\"dataframe\">\n",
       "  <thead>\n",
       "    <tr>\n",
       "      <th></th>\n",
       "      <th>order_number</th>\n",
       "    </tr>\n",
       "    <tr>\n",
       "      <th></th>\n",
       "      <th>mean</th>\n",
       "    </tr>\n",
       "    <tr>\n",
       "      <th>department_id</th>\n",
       "      <th></th>\n",
       "    </tr>\n",
       "  </thead>\n",
       "  <tbody>\n",
       "    <tr>\n",
       "      <th>1</th>\n",
       "      <td>15.577493</td>\n",
       "    </tr>\n",
       "    <tr>\n",
       "      <th>2</th>\n",
       "      <td>17.320781</td>\n",
       "    </tr>\n",
       "    <tr>\n",
       "      <th>3</th>\n",
       "      <td>16.084944</td>\n",
       "    </tr>\n",
       "    <tr>\n",
       "      <th>4</th>\n",
       "      <td>17.530458</td>\n",
       "    </tr>\n",
       "    <tr>\n",
       "      <th>5</th>\n",
       "      <td>14.763075</td>\n",
       "    </tr>\n",
       "    <tr>\n",
       "      <th>6</th>\n",
       "      <td>16.658449</td>\n",
       "    </tr>\n",
       "    <tr>\n",
       "      <th>7</th>\n",
       "      <td>17.031590</td>\n",
       "    </tr>\n",
       "    <tr>\n",
       "      <th>8</th>\n",
       "      <td>15.076662</td>\n",
       "    </tr>\n",
       "    <tr>\n",
       "      <th>9</th>\n",
       "      <td>15.447580</td>\n",
       "    </tr>\n",
       "    <tr>\n",
       "      <th>10</th>\n",
       "      <td>18.681852</td>\n",
       "    </tr>\n",
       "    <tr>\n",
       "      <th>11</th>\n",
       "      <td>15.467644</td>\n",
       "    </tr>\n",
       "    <tr>\n",
       "      <th>12</th>\n",
       "      <td>14.327957</td>\n",
       "    </tr>\n",
       "    <tr>\n",
       "      <th>13</th>\n",
       "      <td>16.548642</td>\n",
       "    </tr>\n",
       "    <tr>\n",
       "      <th>14</th>\n",
       "      <td>16.960241</td>\n",
       "    </tr>\n",
       "    <tr>\n",
       "      <th>15</th>\n",
       "      <td>16.121948</td>\n",
       "    </tr>\n",
       "    <tr>\n",
       "      <th>16</th>\n",
       "      <td>17.802028</td>\n",
       "    </tr>\n",
       "    <tr>\n",
       "      <th>17</th>\n",
       "      <td>15.593633</td>\n",
       "    </tr>\n",
       "    <tr>\n",
       "      <th>18</th>\n",
       "      <td>19.674252</td>\n",
       "    </tr>\n",
       "    <tr>\n",
       "      <th>19</th>\n",
       "      <td>16.899756</td>\n",
       "    </tr>\n",
       "    <tr>\n",
       "      <th>20</th>\n",
       "      <td>16.255442</td>\n",
       "    </tr>\n",
       "    <tr>\n",
       "      <th>21</th>\n",
       "      <td>25.535479</td>\n",
       "    </tr>\n",
       "  </tbody>\n",
       "</table>\n",
       "</div>"
      ],
      "text/plain": [
       "              order_number\n",
       "                      mean\n",
       "department_id             \n",
       "1                15.577493\n",
       "2                17.320781\n",
       "3                16.084944\n",
       "4                17.530458\n",
       "5                14.763075\n",
       "6                16.658449\n",
       "7                17.031590\n",
       "8                15.076662\n",
       "9                15.447580\n",
       "10               18.681852\n",
       "11               15.467644\n",
       "12               14.327957\n",
       "13               16.548642\n",
       "14               16.960241\n",
       "15               16.121948\n",
       "16               17.802028\n",
       "17               15.593633\n",
       "18               19.674252\n",
       "19               16.899756\n",
       "20               16.255442\n",
       "21               25.535479"
      ]
     },
     "execution_count": 5,
     "metadata": {},
     "output_type": "execute_result"
    }
   ],
   "source": [
    "df_sub.groupby(['department_id']).agg({'order_number':['mean']})"
   ]
  },
  {
   "cell_type": "markdown",
   "id": "ec4a312c",
   "metadata": {},
   "source": [
    "### The mean of the entire dataset"
   ]
  },
  {
   "cell_type": "code",
   "execution_count": 6,
   "id": "c16cdcd8",
   "metadata": {},
   "outputs": [
    {
     "data": {
      "text/html": [
       "<div>\n",
       "<style scoped>\n",
       "    .dataframe tbody tr th:only-of-type {\n",
       "        vertical-align: middle;\n",
       "    }\n",
       "\n",
       "    .dataframe tbody tr th {\n",
       "        vertical-align: top;\n",
       "    }\n",
       "\n",
       "    .dataframe thead tr th {\n",
       "        text-align: left;\n",
       "    }\n",
       "\n",
       "    .dataframe thead tr:last-of-type th {\n",
       "        text-align: right;\n",
       "    }\n",
       "</style>\n",
       "<table border=\"1\" class=\"dataframe\">\n",
       "  <thead>\n",
       "    <tr>\n",
       "      <th></th>\n",
       "      <th>order_number</th>\n",
       "    </tr>\n",
       "    <tr>\n",
       "      <th></th>\n",
       "      <th>mean</th>\n",
       "    </tr>\n",
       "    <tr>\n",
       "      <th>department_id</th>\n",
       "      <th></th>\n",
       "    </tr>\n",
       "  </thead>\n",
       "  <tbody>\n",
       "    <tr>\n",
       "      <th>1</th>\n",
       "      <td>15.457838</td>\n",
       "    </tr>\n",
       "    <tr>\n",
       "      <th>2</th>\n",
       "      <td>17.277920</td>\n",
       "    </tr>\n",
       "    <tr>\n",
       "      <th>3</th>\n",
       "      <td>17.170395</td>\n",
       "    </tr>\n",
       "    <tr>\n",
       "      <th>4</th>\n",
       "      <td>17.811403</td>\n",
       "    </tr>\n",
       "    <tr>\n",
       "      <th>5</th>\n",
       "      <td>15.213779</td>\n",
       "    </tr>\n",
       "    <tr>\n",
       "      <th>6</th>\n",
       "      <td>16.439806</td>\n",
       "    </tr>\n",
       "    <tr>\n",
       "      <th>7</th>\n",
       "      <td>17.225802</td>\n",
       "    </tr>\n",
       "    <tr>\n",
       "      <th>8</th>\n",
       "      <td>15.340650</td>\n",
       "    </tr>\n",
       "    <tr>\n",
       "      <th>9</th>\n",
       "      <td>15.895474</td>\n",
       "    </tr>\n",
       "    <tr>\n",
       "      <th>10</th>\n",
       "      <td>20.197148</td>\n",
       "    </tr>\n",
       "    <tr>\n",
       "      <th>11</th>\n",
       "      <td>16.171095</td>\n",
       "    </tr>\n",
       "    <tr>\n",
       "      <th>12</th>\n",
       "      <td>15.887671</td>\n",
       "    </tr>\n",
       "    <tr>\n",
       "      <th>13</th>\n",
       "      <td>16.583536</td>\n",
       "    </tr>\n",
       "    <tr>\n",
       "      <th>14</th>\n",
       "      <td>16.771241</td>\n",
       "    </tr>\n",
       "    <tr>\n",
       "      <th>15</th>\n",
       "      <td>16.165037</td>\n",
       "    </tr>\n",
       "    <tr>\n",
       "      <th>16</th>\n",
       "      <td>17.665606</td>\n",
       "    </tr>\n",
       "    <tr>\n",
       "      <th>17</th>\n",
       "      <td>15.694469</td>\n",
       "    </tr>\n",
       "    <tr>\n",
       "      <th>18</th>\n",
       "      <td>19.310397</td>\n",
       "    </tr>\n",
       "    <tr>\n",
       "      <th>19</th>\n",
       "      <td>17.177343</td>\n",
       "    </tr>\n",
       "    <tr>\n",
       "      <th>20</th>\n",
       "      <td>16.473447</td>\n",
       "    </tr>\n",
       "    <tr>\n",
       "      <th>21</th>\n",
       "      <td>22.902379</td>\n",
       "    </tr>\n",
       "  </tbody>\n",
       "</table>\n",
       "</div>"
      ],
      "text/plain": [
       "              order_number\n",
       "                      mean\n",
       "department_id             \n",
       "1                15.457838\n",
       "2                17.277920\n",
       "3                17.170395\n",
       "4                17.811403\n",
       "5                15.213779\n",
       "6                16.439806\n",
       "7                17.225802\n",
       "8                15.340650\n",
       "9                15.895474\n",
       "10               20.197148\n",
       "11               16.171095\n",
       "12               15.887671\n",
       "13               16.583536\n",
       "14               16.771241\n",
       "15               16.165037\n",
       "16               17.665606\n",
       "17               15.694469\n",
       "18               19.310397\n",
       "19               17.177343\n",
       "20               16.473447\n",
       "21               22.902379"
      ]
     },
     "execution_count": 6,
     "metadata": {},
     "output_type": "execute_result"
    }
   ],
   "source": [
    "df.groupby(['department_id']).agg({'order_number':['mean']})"
   ]
  },
  {
   "cell_type": "markdown",
   "id": "93d80d3d",
   "metadata": {},
   "source": [
    "### The descriptive analysis between subset and the entire dataset"
   ]
  },
  {
   "cell_type": "code",
   "execution_count": 9,
   "id": "85c61693",
   "metadata": {},
   "outputs": [
    {
     "data": {
      "text/plain": [
       "count    1000000.000000\n",
       "mean          16.818548\n",
       "std           17.433229\n",
       "min            1.000000\n",
       "25%            4.000000\n",
       "50%           11.000000\n",
       "75%           23.000000\n",
       "max           99.000000\n",
       "Name: order_number, dtype: float64"
      ]
     },
     "execution_count": 9,
     "metadata": {},
     "output_type": "execute_result"
    }
   ],
   "source": [
    "df_sub['order_number'].describe()"
   ]
  },
  {
   "cell_type": "code",
   "execution_count": 10,
   "id": "c1e55626",
   "metadata": {},
   "outputs": [
    {
     "data": {
      "text/plain": [
       "count    3.240604e+07\n",
       "mean     1.714223e+01\n",
       "std      1.753527e+01\n",
       "min      1.000000e+00\n",
       "25%      5.000000e+00\n",
       "50%      1.100000e+01\n",
       "75%      2.400000e+01\n",
       "max      9.900000e+01\n",
       "Name: order_number, dtype: float64"
      ]
     },
     "execution_count": 10,
     "metadata": {},
     "output_type": "execute_result"
    }
   ],
   "source": [
    "df['order_number'].describe()"
   ]
  },
  {
   "cell_type": "markdown",
   "id": "1ce6f4ac",
   "metadata": {},
   "source": [
    "### Conclusion: \n",
    "The outputs between subset with 1 million rows and the entire dataset don't have too much difference. \n",
    "\n",
    "The main reason is that the subset is a sample whose features can represent the entire data: From the Descriptive Analyses one can see that except the 'count' is differnt, other values between them are very close."
   ]
  },
  {
   "cell_type": "markdown",
   "id": "0f63fb39",
   "metadata": {},
   "source": [
    "# 2. Creating the 'loyal flag' for the entire dataset "
   ]
  },
  {
   "cell_type": "code",
   "execution_count": 11,
   "id": "911bd0bc",
   "metadata": {},
   "outputs": [
    {
     "name": "stdout",
     "output_type": "stream",
     "text": [
      "<class 'pandas.core.frame.DataFrame'>\n",
      "Int64Index: 32406041 entries, 0 to 32406040\n",
      "Data columns (total 17 columns):\n",
      " #   Column                  Dtype  \n",
      "---  ------                  -----  \n",
      " 0   product_id              int64  \n",
      " 1   product_name            object \n",
      " 2   aisle_id                int64  \n",
      " 3   department_id           int64  \n",
      " 4   prices                  float64\n",
      " 5   order_id                int64  \n",
      " 6   user_id                 int64  \n",
      " 7   eval_setting            object \n",
      " 8   order_number            int64  \n",
      " 9   order_day_of_week       int64  \n",
      " 10  order_hour_of_day       int64  \n",
      " 11  days_since_prior_order  float64\n",
      " 12  add_to_cart_order       int64  \n",
      " 13  reordered               int64  \n",
      " 14  price_range             object \n",
      " 15  busy days               object \n",
      " 16  busiest_period_of_day   object \n",
      "dtypes: float64(2), int64(10), object(5)\n",
      "memory usage: 4.3+ GB\n"
     ]
    }
   ],
   "source": [
    "df.info()"
   ]
  },
  {
   "cell_type": "code",
   "execution_count": 12,
   "id": "aef1127f",
   "metadata": {},
   "outputs": [],
   "source": [
    "df['max_order'] = df.groupby(['user_id'])['order_number'].transform(np.max)"
   ]
  },
  {
   "cell_type": "code",
   "execution_count": 14,
   "id": "c6544faf",
   "metadata": {},
   "outputs": [
    {
     "data": {
      "text/plain": [
       "99    1171363\n",
       "8      811893\n",
       "6      811423\n",
       "9      810243\n",
       "7      804002\n",
       "       ...   \n",
       "97      44949\n",
       "98      44587\n",
       "96      40453\n",
       "2           6\n",
       "1           5\n",
       "Name: max_order, Length: 99, dtype: int64"
      ]
     },
     "execution_count": 14,
     "metadata": {},
     "output_type": "execute_result"
    }
   ],
   "source": [
    "df['max_order'].value_counts()"
   ]
  },
  {
   "cell_type": "code",
   "execution_count": 15,
   "id": "447d13d2",
   "metadata": {},
   "outputs": [
    {
     "data": {
      "text/plain": [
       "count    3.240604e+07\n",
       "mean     3.305203e+01\n",
       "std      2.515518e+01\n",
       "min      1.000000e+00\n",
       "25%      1.300000e+01\n",
       "50%      2.600000e+01\n",
       "75%      4.700000e+01\n",
       "max      9.900000e+01\n",
       "Name: max_order, dtype: float64"
      ]
     },
     "execution_count": 15,
     "metadata": {},
     "output_type": "execute_result"
    }
   ],
   "source": [
    "df['max_order'].describe()"
   ]
  },
  {
   "cell_type": "code",
   "execution_count": 20,
   "id": "bf07a258",
   "metadata": {},
   "outputs": [],
   "source": [
    "df.loc[df['max_order'] >47, 'loyalty_flag'] = 'loyal customer'\n",
    "df.loc[df['max_order'] <= 13, 'loyalty_flag'] = 'new customer'\n",
    "df.loc[(df['max_order'] > 13) & (df['max_order'] <= 47), 'loyalty_flag'] = 'regular customer'"
   ]
  },
  {
   "cell_type": "code",
   "execution_count": 21,
   "id": "3d754c84",
   "metadata": {},
   "outputs": [
    {
     "data": {
      "text/plain": [
       "regular customer    15941976\n",
       "new customer         8494733\n",
       "loyal customer       7969332\n",
       "Name: loyalty_flag, dtype: int64"
      ]
     },
     "execution_count": 21,
     "metadata": {},
     "output_type": "execute_result"
    }
   ],
   "source": [
    "df['loyalty_flag'].value_counts()"
   ]
  },
  {
   "cell_type": "markdown",
   "id": "8cfba5ef",
   "metadata": {},
   "source": [
    "# 3. Comparion among the three types of customers"
   ]
  },
  {
   "cell_type": "markdown",
   "id": "619474e3",
   "metadata": {},
   "source": [
    "##  Descriptive statistics "
   ]
  },
  {
   "cell_type": "code",
   "execution_count": 35,
   "id": "abf05129",
   "metadata": {},
   "outputs": [
    {
     "data": {
      "text/html": [
       "<div>\n",
       "<style scoped>\n",
       "    .dataframe tbody tr th:only-of-type {\n",
       "        vertical-align: middle;\n",
       "    }\n",
       "\n",
       "    .dataframe tbody tr th {\n",
       "        vertical-align: top;\n",
       "    }\n",
       "\n",
       "    .dataframe thead tr th {\n",
       "        text-align: left;\n",
       "    }\n",
       "\n",
       "    .dataframe thead tr:last-of-type th {\n",
       "        text-align: right;\n",
       "    }\n",
       "</style>\n",
       "<table border=\"1\" class=\"dataframe\">\n",
       "  <thead>\n",
       "    <tr>\n",
       "      <th></th>\n",
       "      <th colspan=\"5\" halign=\"left\">prices</th>\n",
       "    </tr>\n",
       "    <tr>\n",
       "      <th></th>\n",
       "      <th>mean</th>\n",
       "      <th>median</th>\n",
       "      <th>min</th>\n",
       "      <th>max</th>\n",
       "      <th>std</th>\n",
       "    </tr>\n",
       "    <tr>\n",
       "      <th>loyalty_flag</th>\n",
       "      <th></th>\n",
       "      <th></th>\n",
       "      <th></th>\n",
       "      <th></th>\n",
       "      <th></th>\n",
       "    </tr>\n",
       "  </thead>\n",
       "  <tbody>\n",
       "    <tr>\n",
       "      <th>loyal customer</th>\n",
       "      <td>10.090709</td>\n",
       "      <td>7.4</td>\n",
       "      <td>1.0</td>\n",
       "      <td>99999.0</td>\n",
       "      <td>300.216701</td>\n",
       "    </tr>\n",
       "    <tr>\n",
       "      <th>new customer</th>\n",
       "      <td>13.479703</td>\n",
       "      <td>7.4</td>\n",
       "      <td>1.0</td>\n",
       "      <td>99999.0</td>\n",
       "      <td>608.315461</td>\n",
       "    </tr>\n",
       "    <tr>\n",
       "      <th>regular customer</th>\n",
       "      <td>12.125410</td>\n",
       "      <td>7.4</td>\n",
       "      <td>1.0</td>\n",
       "      <td>99999.0</td>\n",
       "      <td>507.086129</td>\n",
       "    </tr>\n",
       "  </tbody>\n",
       "</table>\n",
       "</div>"
      ],
      "text/plain": [
       "                     prices                                 \n",
       "                       mean median  min      max         std\n",
       "loyalty_flag                                                \n",
       "loyal customer    10.090709    7.4  1.0  99999.0  300.216701\n",
       "new customer      13.479703    7.4  1.0  99999.0  608.315461\n",
       "regular customer  12.125410    7.4  1.0  99999.0  507.086129"
      ]
     },
     "execution_count": 35,
     "metadata": {},
     "output_type": "execute_result"
    }
   ],
   "source": [
    "df.groupby('loyalty_flag').agg({'prices':['mean','median','min','max','std']})"
   ]
  },
  {
   "cell_type": "code",
   "execution_count": 36,
   "id": "89b67a87",
   "metadata": {},
   "outputs": [
    {
     "data": {
      "text/plain": [
       "regular customer    15941976\n",
       "new customer         8494733\n",
       "loyal customer       7969332\n",
       "Name: loyalty_flag, dtype: int64"
      ]
     },
     "execution_count": 36,
     "metadata": {},
     "output_type": "execute_result"
    }
   ],
   "source": [
    "df['loyalty_flag'].value_counts()"
   ]
  },
  {
   "cell_type": "markdown",
   "id": "0c0773fd",
   "metadata": {},
   "source": [
    "## Conlusion: \n",
    "1) The minimum, maximum and median of the prices for these three groups are the same.\n",
    "\n",
    "2) For each group, the distribution of prices is right skewed: the distribution of prices for new customer is the most right skewed, whereas the distribution for loyal customer is the least right skewed. \n",
    "\n",
    "2) The prices of the products by average bought by group of new customer is bigger than other groups; the standard deviation of the price for group of new customer is the largest, whereas regular customer's standard deviation of price is the smallest. "
   ]
  },
  {
   "cell_type": "markdown",
   "id": "43597cf2",
   "metadata": {},
   "source": [
    "# 4. Creating a 'spending flag'"
   ]
  },
  {
   "cell_type": "code",
   "execution_count": 38,
   "id": "6429afb1",
   "metadata": {},
   "outputs": [],
   "source": [
    "df['mean_price'] = df.groupby(['user_id'])['prices'].transform(np.mean)"
   ]
  },
  {
   "cell_type": "code",
   "execution_count": 39,
   "id": "4ef5fe12",
   "metadata": {},
   "outputs": [],
   "source": [
    "df.loc[df['mean_price']< 10, 'spender_flag'] = 'low spender'\n",
    "df.loc[df['mean_price'] >= 10, 'spender_flag'] = 'high spender'"
   ]
  },
  {
   "cell_type": "code",
   "execution_count": 40,
   "id": "b50d78cc",
   "metadata": {},
   "outputs": [
    {
     "data": {
      "text/plain": [
       "low spender     31771789\n",
       "high spender      634252\n",
       "Name: spender_flag, dtype: int64"
      ]
     },
     "execution_count": 40,
     "metadata": {},
     "output_type": "execute_result"
    }
   ],
   "source": [
    "df['spender_flag'].value_counts()"
   ]
  },
  {
   "cell_type": "markdown",
   "id": "582d5dd2",
   "metadata": {},
   "source": [
    "# 5. Creating the 'order frequency flag'"
   ]
  },
  {
   "cell_type": "code",
   "execution_count": 41,
   "id": "ce394059",
   "metadata": {},
   "outputs": [
    {
     "name": "stdout",
     "output_type": "stream",
     "text": [
      "<class 'pandas.core.frame.DataFrame'>\n",
      "Int64Index: 32406041 entries, 0 to 32406040\n",
      "Data columns (total 21 columns):\n",
      " #   Column                  Dtype  \n",
      "---  ------                  -----  \n",
      " 0   product_id              int64  \n",
      " 1   product_name            object \n",
      " 2   aisle_id                int64  \n",
      " 3   department_id           int64  \n",
      " 4   prices                  float64\n",
      " 5   order_id                int64  \n",
      " 6   user_id                 int64  \n",
      " 7   eval_setting            object \n",
      " 8   order_number            int64  \n",
      " 9   order_day_of_week       int64  \n",
      " 10  order_hour_of_day       int64  \n",
      " 11  days_since_prior_order  float64\n",
      " 12  add_to_cart_order       int64  \n",
      " 13  reordered               int64  \n",
      " 14  price_range             object \n",
      " 15  busy days               object \n",
      " 16  busiest_period_of_day   object \n",
      " 17  max_order               int64  \n",
      " 18  loyalty_flag            object \n",
      " 19  mean_price              float64\n",
      " 20  spender_flag            object \n",
      "dtypes: float64(3), int64(11), object(7)\n",
      "memory usage: 5.3+ GB\n"
     ]
    }
   ],
   "source": [
    "df.info()"
   ]
  },
  {
   "cell_type": "code",
   "execution_count": 42,
   "id": "9ffc3f2b",
   "metadata": {},
   "outputs": [],
   "source": [
    "df['median_day'] = df.groupby(['user_id'])['days_since_prior_order'].transform(np.median)"
   ]
  },
  {
   "cell_type": "code",
   "execution_count": 44,
   "id": "eac54d42",
   "metadata": {},
   "outputs": [],
   "source": [
    "df.loc[df['median_day'] <= 10, 'order_frequency'] = 'frequent customer'\n",
    "df.loc[(df['median_day'] > 10) & (df['median_day']<= 20), 'order_frequency'] = 'regular customer'\n",
    "df.loc[df['median_day'] >20, 'order_frequency'] = 'non-frequent customer'"
   ]
  },
  {
   "cell_type": "code",
   "execution_count": 45,
   "id": "6cbe6014",
   "metadata": {},
   "outputs": [
    {
     "data": {
      "text/plain": [
       "frequent customer        22790800\n",
       "regular customer          6928407\n",
       "non-frequent customer     2686834\n",
       "Name: order_frequency, dtype: int64"
      ]
     },
     "execution_count": 45,
     "metadata": {},
     "output_type": "execute_result"
    }
   ],
   "source": [
    "df['order_frequency'].value_counts()"
   ]
  },
  {
   "cell_type": "code",
   "execution_count": 46,
   "id": "5773da85",
   "metadata": {},
   "outputs": [
    {
     "name": "stdout",
     "output_type": "stream",
     "text": [
      "<class 'pandas.core.frame.DataFrame'>\n",
      "Int64Index: 32406041 entries, 0 to 32406040\n",
      "Data columns (total 23 columns):\n",
      " #   Column                  Dtype  \n",
      "---  ------                  -----  \n",
      " 0   product_id              int64  \n",
      " 1   product_name            object \n",
      " 2   aisle_id                int64  \n",
      " 3   department_id           int64  \n",
      " 4   prices                  float64\n",
      " 5   order_id                int64  \n",
      " 6   user_id                 int64  \n",
      " 7   eval_setting            object \n",
      " 8   order_number            int64  \n",
      " 9   order_day_of_week       int64  \n",
      " 10  order_hour_of_day       int64  \n",
      " 11  days_since_prior_order  float64\n",
      " 12  add_to_cart_order       int64  \n",
      " 13  reordered               int64  \n",
      " 14  price_range             object \n",
      " 15  busy days               object \n",
      " 16  busiest_period_of_day   object \n",
      " 17  max_order               int64  \n",
      " 18  loyalty_flag            object \n",
      " 19  mean_price              float64\n",
      " 20  spender_flag            object \n",
      " 21  median_day              float64\n",
      " 22  order_frequency         object \n",
      "dtypes: float64(4), int64(11), object(8)\n",
      "memory usage: 5.8+ GB\n"
     ]
    }
   ],
   "source": [
    "df.info()"
   ]
  },
  {
   "cell_type": "markdown",
   "id": "97d7c4b7",
   "metadata": {},
   "source": [
    "### I would like to delete the columns which have been introduced as intermediate variables, like 'max_order','mean_price' and 'median_day' in case some confusion will be caused. Am I right? (In this exercise I will delete them as the file is really big.)"
   ]
  },
  {
   "cell_type": "code",
   "execution_count": 47,
   "id": "60ed78e2",
   "metadata": {},
   "outputs": [],
   "source": [
    "df = df.drop(columns = ['max_order','mean_price','median_day'])"
   ]
  },
  {
   "cell_type": "code",
   "execution_count": 48,
   "id": "baf4c614",
   "metadata": {},
   "outputs": [
    {
     "name": "stdout",
     "output_type": "stream",
     "text": [
      "<class 'pandas.core.frame.DataFrame'>\n",
      "Int64Index: 32406041 entries, 0 to 32406040\n",
      "Data columns (total 20 columns):\n",
      " #   Column                  Dtype  \n",
      "---  ------                  -----  \n",
      " 0   product_id              int64  \n",
      " 1   product_name            object \n",
      " 2   aisle_id                int64  \n",
      " 3   department_id           int64  \n",
      " 4   prices                  float64\n",
      " 5   order_id                int64  \n",
      " 6   user_id                 int64  \n",
      " 7   eval_setting            object \n",
      " 8   order_number            int64  \n",
      " 9   order_day_of_week       int64  \n",
      " 10  order_hour_of_day       int64  \n",
      " 11  days_since_prior_order  float64\n",
      " 12  add_to_cart_order       int64  \n",
      " 13  reordered               int64  \n",
      " 14  price_range             object \n",
      " 15  busy days               object \n",
      " 16  busiest_period_of_day   object \n",
      " 17  loyalty_flag            object \n",
      " 18  spender_flag            object \n",
      " 19  order_frequency         object \n",
      "dtypes: float64(2), int64(10), object(8)\n",
      "memory usage: 5.1+ GB\n"
     ]
    }
   ],
   "source": [
    "df.info()"
   ]
  },
  {
   "cell_type": "code",
   "execution_count": 49,
   "id": "274d6291",
   "metadata": {},
   "outputs": [],
   "source": [
    "df.to_pickle(os.path.join(fpath,'Entire_updated_merged_upd1.pkl'))"
   ]
  },
  {
   "cell_type": "code",
   "execution_count": null,
   "id": "033d1e04",
   "metadata": {},
   "outputs": [],
   "source": []
  }
 ],
 "metadata": {
  "kernelspec": {
   "display_name": "Python 3 (ipykernel)",
   "language": "python",
   "name": "python3"
  },
  "language_info": {
   "codemirror_mode": {
    "name": "ipython",
    "version": 3
   },
   "file_extension": ".py",
   "mimetype": "text/x-python",
   "name": "python",
   "nbconvert_exporter": "python",
   "pygments_lexer": "ipython3",
   "version": "3.9.13"
  }
 },
 "nbformat": 4,
 "nbformat_minor": 5
}
